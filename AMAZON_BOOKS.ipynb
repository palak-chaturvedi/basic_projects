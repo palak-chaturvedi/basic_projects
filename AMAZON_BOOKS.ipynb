{
  "nbformat": 4,
  "nbformat_minor": 0,
  "metadata": {
    "colab": {
      "name": "AMAZON BOOKS.ipynb",
      "provenance": [],
      "authorship_tag": "ABX9TyO3i0wT1/gZ23+ob+z/5Or1",
      "include_colab_link": true
    },
    "kernelspec": {
      "name": "python3",
      "display_name": "Python 3"
    },
    "language_info": {
      "name": "python"
    }
  },
  "cells": [
    {
      "cell_type": "markdown",
      "metadata": {
        "id": "view-in-github",
        "colab_type": "text"
      },
      "source": [
        "<a href=\"https://colab.research.google.com/github/palak-chaturvedi/basic_projects/blob/master/AMAZON_BOOKS.ipynb\" target=\"_parent\"><img src=\"https://colab.research.google.com/assets/colab-badge.svg\" alt=\"Open In Colab\"/></a>"
      ]
    },
    {
      "cell_type": "code",
      "source": [
        "!pip3 install fuzzywuzzy\n"
      ],
      "metadata": {
        "colab": {
          "base_uri": "https://localhost:8080/"
        },
        "id": "dxbv9qxrLb6Q",
        "outputId": "abe6a2a6-4bc2-46b8-d4d6-84f40e137c11"
      },
      "execution_count": 9,
      "outputs": [
        {
          "output_type": "stream",
          "name": "stdout",
          "text": [
            "Requirement already satisfied: fuzzywuzzy in /usr/local/lib/python3.7/dist-packages (0.18.0)\n"
          ]
        }
      ]
    },
    {
      "cell_type": "code",
      "execution_count": 10,
      "metadata": {
        "id": "BRfW21JWGp8j"
      },
      "outputs": [],
      "source": [
        "import pandas as pd\n",
        "import numpy as np\n",
        "import missingno\n",
        "import fuzzywuzzy\n",
        "from fuzzywuzzy import process\n",
        "import collections\n",
        "import matplotlib.pyplot as plt\n",
        "from plotly.subplots import make_subplots\n",
        "import plotly.graph_objects as go\n",
        "import plotly.figure_factory as ff\n",
        "from scipy.stats import shapiro\n",
        "from scipy.stats import mannwhitneyu"
      ]
    },
    {
      "cell_type": "code",
      "source": [
        "# Reading data\n",
        "bestsellers = pd.read_csv('bestsellers with categories.csv') # Loading data\n",
        "bestsellers.head() # Displaying the first 5 lines of the dataset\n"
      ],
      "metadata": {
        "colab": {
          "base_uri": "https://localhost:8080/",
          "height": 206
        },
        "id": "LwIO4Ar_JQjh",
        "outputId": "3249e74a-ee77-47d1-8a80-3c8e27385a1c"
      },
      "execution_count": 11,
      "outputs": [
        {
          "output_type": "execute_result",
          "data": {
            "text/html": [
              "<div>\n",
              "<style scoped>\n",
              "    .dataframe tbody tr th:only-of-type {\n",
              "        vertical-align: middle;\n",
              "    }\n",
              "\n",
              "    .dataframe tbody tr th {\n",
              "        vertical-align: top;\n",
              "    }\n",
              "\n",
              "    .dataframe thead th {\n",
              "        text-align: right;\n",
              "    }\n",
              "</style>\n",
              "<table border=\"1\" class=\"dataframe\">\n",
              "  <thead>\n",
              "    <tr style=\"text-align: right;\">\n",
              "      <th></th>\n",
              "      <th>Name</th>\n",
              "      <th>Author</th>\n",
              "      <th>User Rating</th>\n",
              "      <th>Reviews</th>\n",
              "      <th>Price</th>\n",
              "      <th>Year</th>\n",
              "      <th>Genre</th>\n",
              "    </tr>\n",
              "  </thead>\n",
              "  <tbody>\n",
              "    <tr>\n",
              "      <th>0</th>\n",
              "      <td>10-Day Green Smoothie Cleanse</td>\n",
              "      <td>JJ Smith</td>\n",
              "      <td>4.7</td>\n",
              "      <td>17350</td>\n",
              "      <td>8</td>\n",
              "      <td>2016</td>\n",
              "      <td>Non Fiction</td>\n",
              "    </tr>\n",
              "    <tr>\n",
              "      <th>1</th>\n",
              "      <td>11/22/63: A Novel</td>\n",
              "      <td>Stephen King</td>\n",
              "      <td>4.6</td>\n",
              "      <td>2052</td>\n",
              "      <td>22</td>\n",
              "      <td>2011</td>\n",
              "      <td>Fiction</td>\n",
              "    </tr>\n",
              "    <tr>\n",
              "      <th>2</th>\n",
              "      <td>12 Rules for Life: An Antidote to Chaos</td>\n",
              "      <td>Jordan B. Peterson</td>\n",
              "      <td>4.7</td>\n",
              "      <td>18979</td>\n",
              "      <td>15</td>\n",
              "      <td>2018</td>\n",
              "      <td>Non Fiction</td>\n",
              "    </tr>\n",
              "    <tr>\n",
              "      <th>3</th>\n",
              "      <td>1984 (Signet Classics)</td>\n",
              "      <td>George Orwell</td>\n",
              "      <td>4.7</td>\n",
              "      <td>21424</td>\n",
              "      <td>6</td>\n",
              "      <td>2017</td>\n",
              "      <td>Fiction</td>\n",
              "    </tr>\n",
              "    <tr>\n",
              "      <th>4</th>\n",
              "      <td>5,000 Awesome Facts (About Everything!) (Natio...</td>\n",
              "      <td>National Geographic Kids</td>\n",
              "      <td>4.8</td>\n",
              "      <td>7665</td>\n",
              "      <td>12</td>\n",
              "      <td>2019</td>\n",
              "      <td>Non Fiction</td>\n",
              "    </tr>\n",
              "  </tbody>\n",
              "</table>\n",
              "</div>"
            ],
            "text/plain": [
              "                                                Name  ...        Genre\n",
              "0                      10-Day Green Smoothie Cleanse  ...  Non Fiction\n",
              "1                                  11/22/63: A Novel  ...      Fiction\n",
              "2            12 Rules for Life: An Antidote to Chaos  ...  Non Fiction\n",
              "3                             1984 (Signet Classics)  ...      Fiction\n",
              "4  5,000 Awesome Facts (About Everything!) (Natio...  ...  Non Fiction\n",
              "\n",
              "[5 rows x 7 columns]"
            ]
          },
          "metadata": {},
          "execution_count": 11
        }
      ]
    },
    {
      "cell_type": "code",
      "source": [
        "print(f'Data contaion {bestsellers.shape[0]} records and {bestsellers.shape[1]} columns.')"
      ],
      "metadata": {
        "colab": {
          "base_uri": "https://localhost:8080/"
        },
        "id": "2aAfW-h5JUjA",
        "outputId": "825a19ab-12b0-4a33-c8ee-4e18e796d538"
      },
      "execution_count": 12,
      "outputs": [
        {
          "output_type": "stream",
          "name": "stdout",
          "text": [
            "Data contaion 550 records and 7 columns.\n"
          ]
        }
      ]
    },
    {
      "cell_type": "code",
      "source": [
        "bestsellers.dtypes"
      ],
      "metadata": {
        "colab": {
          "base_uri": "https://localhost:8080/"
        },
        "id": "RY0eWw4rJYGN",
        "outputId": "aa3fb1bb-1248-4dcf-a321-3f89e538faab"
      },
      "execution_count": 13,
      "outputs": [
        {
          "output_type": "execute_result",
          "data": {
            "text/plain": [
              "Name            object\n",
              "Author          object\n",
              "User Rating    float64\n",
              "Reviews          int64\n",
              "Price            int64\n",
              "Year             int64\n",
              "Genre           object\n",
              "dtype: object"
            ]
          },
          "metadata": {},
          "execution_count": 13
        }
      ]
    },
    {
      "cell_type": "code",
      "source": [
        "bestsellers.Genre=bestsellers.Genre.astype('category')\n",
        "bestsellers.dtypes"
      ],
      "metadata": {
        "colab": {
          "base_uri": "https://localhost:8080/"
        },
        "id": "DGi6drvSJYjR",
        "outputId": "089e6c42-54bf-4320-c152-22955116ac57"
      },
      "execution_count": 14,
      "outputs": [
        {
          "output_type": "execute_result",
          "data": {
            "text/plain": [
              "Name             object\n",
              "Author           object\n",
              "User Rating     float64\n",
              "Reviews           int64\n",
              "Price             int64\n",
              "Year              int64\n",
              "Genre          category\n",
              "dtype: object"
            ]
          },
          "metadata": {},
          "execution_count": 14
        }
      ]
    },
    {
      "cell_type": "code",
      "source": [
        "# loop through the columns and check the missing values\n",
        "for col in bestsellers.columns:\n",
        "    pct_missing=bestsellers[col].isnull().mean()\n",
        "    print(f'{col}-{pct_missing :.1%}')"
      ],
      "metadata": {
        "colab": {
          "base_uri": "https://localhost:8080/"
        },
        "id": "oF7x5gfMJYl9",
        "outputId": "55bf11fd-31ad-449c-ad80-602f42e87805"
      },
      "execution_count": 15,
      "outputs": [
        {
          "output_type": "stream",
          "name": "stdout",
          "text": [
            "Name-0.0%\n",
            "Author-0.0%\n",
            "User Rating-0.0%\n",
            "Reviews-0.0%\n",
            "Price-0.0%\n",
            "Year-0.0%\n",
            "Genre-0.0%\n"
          ]
        }
      ]
    },
    {
      "cell_type": "code",
      "source": [
        "#Build a matrix of missing values\n",
        "missingno.matrix(bestsellers,fontsize=16)\n",
        "plt.show()"
      ],
      "metadata": {
        "colab": {
          "base_uri": "https://localhost:8080/",
          "height": 513
        },
        "id": "fcCxRovKJYop",
        "outputId": "78ae2d95-71ff-41a3-ff90-41b9dc841204"
      },
      "execution_count": 16,
      "outputs": [
        {
          "output_type": "display_data",
          "data": {
            "image/png": "[encoded data removed]",
            "text/plain": [
              "<Figure size 1800x720 with 2 Axes>"
            ]
          },
          "metadata": {
            "needs_background": "light"
          }
        }
      ]
    },
    {
      "cell_type": "code",
      "source": [
        "#Forming categorical columns\n",
        "col_name_without_numeric_data=list(bestsellers.select_dtypes(exclude=('int','float')).columns)\n",
        "print(f'Сolumns without numeric data: {\", \".join(col_name_without_numeric_data)}.')"
      ],
      "metadata": {
        "colab": {
          "base_uri": "https://localhost:8080/"
        },
        "id": "nFJB9Rg9JYrm",
        "outputId": "b762db2a-785e-4a88-c350-091506d1effd"
      },
      "execution_count": 17,
      "outputs": [
        {
          "output_type": "stream",
          "name": "stdout",
          "text": [
            "Сolumns without numeric data: Name, Author, Genre.\n"
          ]
        }
      ]
    },
    {
      "cell_type": "code",
      "source": [
        "#Let's see the duplicates in the columns\n",
        "for col in col_name_without_numeric_data:\n",
        "    if bestsellers[col].duplicated().any()==True:\n",
        "        print(f'Column {col} contains duplicates.')\n",
        "    else:\n",
        "        print(f'Column {col} does not contain duplicates')"
      ],
      "metadata": {
        "colab": {
          "base_uri": "https://localhost:8080/"
        },
        "id": "v-ZifAfSJYu-",
        "outputId": "445b529d-4876-436f-a78d-acf619db7c9a"
      },
      "execution_count": 18,
      "outputs": [
        {
          "output_type": "stream",
          "name": "stdout",
          "text": [
            "Column Name contains duplicates.\n",
            "Column Author contains duplicates.\n",
            "Column Genre contains duplicates.\n"
          ]
        }
      ]
    },
    {
      "cell_type": "code",
      "source": [
        "#check if spelling errors have been hit\n",
        "for col in col_name_without_numeric_data:\n",
        "    print(f'Before {col}:{len(set(bestsellers[col]))} After {col}: {len(set(bestsellers[col].str.title().str.strip()))}')"
      ],
      "metadata": {
        "colab": {
          "base_uri": "https://localhost:8080/"
        },
        "id": "YxGaacUHJjvP",
        "outputId": "8f3a411c-3f79-4392-cd6e-8f0ef877520b"
      },
      "execution_count": 19,
      "outputs": [
        {
          "output_type": "stream",
          "name": "stdout",
          "text": [
            "Before Name:351 After Name: 350\n",
            "Before Author:248 After Author: 248\n",
            "Before Genre:2 After Genre: 2\n"
          ]
        }
      ]
    },
    {
      "cell_type": "code",
      "source": [
        "#Correct the errors\n",
        "bestsellers.Name=bestsellers.Name.str.title().str.strip()"
      ],
      "metadata": {
        "id": "yPmOH2JVJjx8"
      },
      "execution_count": 20,
      "outputs": []
    },
    {
      "cell_type": "code",
      "source": [
        "#Check\n",
        "for col in col_name_without_numeric_data:\n",
        "    print(f'Before {col}: {len(set(bestsellers[col]))} After {col}: {len(set(bestsellers[col].str.title().str.strip()))}')"
      ],
      "metadata": {
        "colab": {
          "base_uri": "https://localhost:8080/"
        },
        "id": "LcQV5pJuJj1C",
        "outputId": "4891220e-8020-4e24-f5f9-61bccb384ce4"
      },
      "execution_count": 21,
      "outputs": [
        {
          "output_type": "stream",
          "name": "stdout",
          "text": [
            "Before Name: 350 After Name: 350\n",
            "Before Author: 248 After Author: 248\n",
            "Before Genre: 2 After Genre: 2\n"
          ]
        }
      ]
    },
    {
      "cell_type": "code",
      "source": [
        "#Check the column Author\n",
        "authors=bestsellers.Author.sort_values().unique()\n",
        "authors"
      ],
      "metadata": {
        "colab": {
          "base_uri": "https://localhost:8080/"
        },
        "id": "Yy8G7-QVJj3q",
        "outputId": "47db2f86-cb53-47f2-c7d9-c4c10501be32"
      },
      "execution_count": 22,
      "outputs": [
        {
          "output_type": "execute_result",
          "data": {
            "text/plain": [
              "array(['Abraham Verghese', 'Adam Gasiewski', 'Adam Mansbach', 'Adir Levy',\n",
              "       'Admiral William H. McRaven', 'Adult Coloring Book Designs',\n",
              "       'Alan Moore', 'Alex Michaelides', 'Alice Schertle', 'Allie Brosh',\n",
              "       'American Psychiatric Association',\n",
              "       'American Psychological Association', 'Amor Towles', 'Amy Ramos',\n",
              "       'Amy Shields', 'Andy Weir', 'Angie Grace', 'Angie Thomas',\n",
              "       'Ann Voskamp', 'Ann Whitford Paul', 'Anthony Bourdain',\n",
              "       'Anthony Doerr', 'Atul Gawande', 'Audrey Niffenegger',\n",
              "       'B. J. Novak', 'Bessel van der Kolk M.D.', 'Bill Martin Jr.',\n",
              "       \"Bill O'Reilly\", 'Bill Simmons', 'Blue Star Coloring',\n",
              "       'Bob Woodward', 'Brandon Stanton', 'Brené Brown',\n",
              "       'Brian Kilmeade', 'Bruce Springsteen', 'Carol S. Dweck',\n",
              "       'Celeste Ng', 'Charlaine Harris', 'Charles Duhigg',\n",
              "       'Charles Krauthammer', 'Cheryl Strayed', 'Chip Gaines',\n",
              "       'Chip Heath', 'Chris Cleave', 'Chris Kyle', 'Chrissy Teigen',\n",
              "       'Christina Baker Kline', 'Christopher Paolini',\n",
              "       'Coloring Books for Adults', 'Craig Smith', 'Crispin Boyer', 'DK',\n",
              "       'Dale Carnegie', 'Dan Brown', 'Daniel H. Pink',\n",
              "       'Daniel James Brown', 'Daniel Kahneman', 'Daniel Lipkowitz',\n",
              "       'Dav Pilkey', 'Dave Ramsey', 'David Goggins', 'David Grann',\n",
              "       'David McCullough', 'David Perlmutter MD', 'David Platt',\n",
              "       'David Zinczenko', 'Deborah Diesen',\n",
              "       'Delegates of the Constitutional\\x85', 'Delia Owens',\n",
              "       'Dinah Bucholz', 'Don Miguel Ruiz', 'Donna Tartt', 'Doug Lemov',\n",
              "       'Dr. Seuss', 'Dr. Steven R Gundry MD', 'Drew Daywalt', 'E L James',\n",
              "       'Eben Alexander', 'Edward Klein', 'Edward M. Kennedy',\n",
              "       'Elie Wiesel', 'Elizabeth Strout', 'Emily Winfield Martin',\n",
              "       'Eric Carle', 'Eric Larson', 'Ernest Cline', 'F. A. Hayek',\n",
              "       'F. Scott Fitzgerald', 'Francis Chan', 'Fredrik Backman', 'Gallup',\n",
              "       'Garth Stein', 'Gary Chapman', 'Gayle Forman', 'Geneen Roth',\n",
              "       'George Orwell', 'George R. R. Martin', 'George R.R. Martin',\n",
              "       'George W. Bush', 'Giles Andreae', 'Gillian Flynn', 'Glenn Beck',\n",
              "       'Golden Books', 'Greg Mortenson', 'Harper Lee', 'Heidi Murkoff',\n",
              "       'Hillary Rodham Clinton', 'Hopscotch Girls', 'Howard Stern',\n",
              "       'Ian K. Smith M.D.', 'Ina Garten', 'J. D. Vance', 'J. K. Rowling',\n",
              "       'J.K. Rowling', 'JJ Smith', 'James Comey', 'James Dashner',\n",
              "       'James Patterson', 'Jay Asher', 'Jaycee Dugard', 'Jeff Kinney',\n",
              "       'Jen Sincero', 'Jennifer Smith', 'Jill Twiss', 'Jim Collins',\n",
              "       'Joanna Gaines', 'Joel Fuhrman MD', 'Johanna Basford',\n",
              "       'John Green', 'John Grisham', 'John Heilemann', 'Jon Meacham',\n",
              "       'Jon Stewart', 'Jonathan Cahn', 'Jordan B. Peterson',\n",
              "       'Julia Child', 'Justin Halpern', 'Kathryn Stockett',\n",
              "       'Keith Richards', 'Ken Follett', 'Kevin Kwan', 'Khaled Hosseini',\n",
              "       'Kristin Hannah', 'Larry Schweikart', 'Laura Hillenbrand',\n",
              "       'Laurel Randolph', 'Lin-Manuel Miranda', 'Lysa TerKeurst',\n",
              "       'M Prefontaine', \"Madeleine L'Engle\", 'Malcolm Gladwell',\n",
              "       'Margaret Atwood', 'Margaret Wise Brown', 'Marie Kondō',\n",
              "       'Marjorie Sarnat', 'Mark Hyman M.D.', 'Mark Manson', 'Mark Owen',\n",
              "       'Mark R. Levin', 'Mark Twain', 'Markus Zusak', 'Marty Noble',\n",
              "       'Mary Ann Shaffer', 'Maurice Sendak', 'Melissa Hartwig Urban',\n",
              "       'Michael Lewis', 'Michael Pollan', 'Michael Wolff',\n",
              "       'Michelle Obama', 'Mike Moreno', 'Mitch Albom', 'Muriel Barbery',\n",
              "       'Naomi Kleinberg', 'Nathan W. Pyle', 'National Geographic Kids',\n",
              "       'Neil deGrasse Tyson', 'Paper Peony Press', 'Patrick Lencioni',\n",
              "       'Patrick Thorpe', 'Paul Kalanithi', 'Paula Hawkins',\n",
              "       'Paula McLain', 'Paulo Coelho', 'Pete Souza', 'Peter A. Lillback',\n",
              "       'Phil Robertson', 'Pierre Dukan', 'Pretty Simple Press',\n",
              "       'R. J. Palacio', 'RH Disney', 'Rachel Hollis', 'Raina Telgemeier',\n",
              "       'Randall Munroe', 'Randy Pausch', 'Ray Bradbury', 'Rebecca Skloot',\n",
              "       'Ree Drummond', 'Rick Riordan', 'Rob Bell', 'Rob Elliott',\n",
              "       'Robert Jordan', 'Robert Munsch', 'Rod Campbell', 'Roger Priddy',\n",
              "       'Ron Chernow', 'Rupi Kaur', 'Rush Limbaugh', 'Samin Nosrat',\n",
              "       'Sandra Boynton', 'Sara Gruen', 'Sarah Palin', 'Sarah Young',\n",
              "       \"Sasha O'Hara\", 'Scholastic', 'School Zone',\n",
              "       'Sherri Duskey Rinker', 'Sheryl Sandberg', 'Silly Bear',\n",
              "       'Stephen Kendrick', 'Stephen King', 'Stephen R. Covey',\n",
              "       'Stephenie Meyer', 'Steve Harvey', 'Steven D. Levitt',\n",
              "       'Stieg Larsson', 'Susan Cain', 'Suzanne Collins',\n",
              "       'Ta-Nehisi Coates', 'Tara Westover', 'Tatiana de Rosnay',\n",
              "       'The College Board', 'The Staff of The Late Show with\\x85',\n",
              "       'The Washington Post', 'Thomas Campbell', 'Thomas Piketty',\n",
              "       'Thug Kitchen', 'Timothy Ferriss', 'Tina Fey', 'Todd Burpo',\n",
              "       'Tony Hsieh', 'Tucker Carlson', 'Veronica Roth',\n",
              "       'W. Cleon Skousen', 'Walter Isaacson', 'William Davis',\n",
              "       'William P. Young', 'Wizards RPG Team', 'Zhi Gang Sha'],\n",
              "      dtype=object)"
            ]
          },
          "metadata": {},
          "execution_count": 22
        }
      ]
    },
    {
      "cell_type": "code",
      "source": [
        "#Replace the Author name \n",
        "bestsellers=bestsellers.replace('George R. R. Martin', 'George R.R. Martin')\n",
        "bestsellers=bestsellers.replace('J. K. Rowling', 'J.K. Rowling')"
      ],
      "metadata": {
        "id": "HGH_SKrCJj6b"
      },
      "execution_count": 23,
      "outputs": []
    },
    {
      "cell_type": "code",
      "source": [
        "for col in col_name_without_numeric_data:\n",
        "    print(f'Before {col}: {len(set(bestsellers[col]))} After {col}: {len(set(bestsellers[col].str.title().str.strip()))}')"
      ],
      "metadata": {
        "colab": {
          "base_uri": "https://localhost:8080/"
        },
        "id": "5dtqFIm-Jj-d",
        "outputId": "18833250-846f-4324-e7d9-b0c5144535b2"
      },
      "execution_count": 24,
      "outputs": [
        {
          "output_type": "stream",
          "name": "stdout",
          "text": [
            "Before Name: 350 After Name: 350\n",
            "Before Author: 246 After Author: 246\n",
            "Before Genre: 2 After Genre: 2\n"
          ]
        }
      ]
    },
    {
      "cell_type": "code",
      "source": [
        "#Check the column Genre\n",
        "genre=bestsellers.Genre.unique()\n",
        "genre"
      ],
      "metadata": {
        "colab": {
          "base_uri": "https://localhost:8080/"
        },
        "id": "fS2zJ4_7Jw_o",
        "outputId": "1aaf9dfd-2b46-419d-a38a-da4b0b306321"
      },
      "execution_count": 25,
      "outputs": [
        {
          "output_type": "execute_result",
          "data": {
            "text/plain": [
              "['Non Fiction', 'Fiction']\n",
              "Categories (2, object): ['Non Fiction', 'Fiction']"
            ]
          },
          "metadata": {},
          "execution_count": 25
        }
      ]
    },
    {
      "cell_type": "code",
      "source": [
        "#Check the column Year\n",
        "years=list(bestsellers.Year.unique())\n",
        "sorted(years)"
      ],
      "metadata": {
        "colab": {
          "base_uri": "https://localhost:8080/"
        },
        "id": "o0KK8FB7JxCh",
        "outputId": "c1e3519c-5c87-46f6-e04f-40542c86504f"
      },
      "execution_count": 26,
      "outputs": [
        {
          "output_type": "execute_result",
          "data": {
            "text/plain": [
              "[2009, 2010, 2011, 2012, 2013, 2014, 2015, 2016, 2017, 2018, 2019]"
            ]
          },
          "metadata": {},
          "execution_count": 26
        }
      ]
    },
    {
      "cell_type": "code",
      "source": [
        "#Display the last 5 lines\n",
        "bestsellers.tail()"
      ],
      "metadata": {
        "colab": {
          "base_uri": "https://localhost:8080/",
          "height": 206
        },
        "id": "l8gyBtzcJxFX",
        "outputId": "88daf4b9-2256-4a0c-b9eb-d020b5531e46"
      },
      "execution_count": 27,
      "outputs": [
        {
          "output_type": "execute_result",
          "data": {
            "text/html": [
              "<div>\n",
              "<style scoped>\n",
              "    .dataframe tbody tr th:only-of-type {\n",
              "        vertical-align: middle;\n",
              "    }\n",
              "\n",
              "    .dataframe tbody tr th {\n",
              "        vertical-align: top;\n",
              "    }\n",
              "\n",
              "    .dataframe thead th {\n",
              "        text-align: right;\n",
              "    }\n",
              "</style>\n",
              "<table border=\"1\" class=\"dataframe\">\n",
              "  <thead>\n",
              "    <tr style=\"text-align: right;\">\n",
              "      <th></th>\n",
              "      <th>Name</th>\n",
              "      <th>Author</th>\n",
              "      <th>User Rating</th>\n",
              "      <th>Reviews</th>\n",
              "      <th>Price</th>\n",
              "      <th>Year</th>\n",
              "      <th>Genre</th>\n",
              "    </tr>\n",
              "  </thead>\n",
              "  <tbody>\n",
              "    <tr>\n",
              "      <th>545</th>\n",
              "      <td>Wrecking Ball (Diary Of A Wimpy Kid Book 14)</td>\n",
              "      <td>Jeff Kinney</td>\n",
              "      <td>4.9</td>\n",
              "      <td>9413</td>\n",
              "      <td>8</td>\n",
              "      <td>2019</td>\n",
              "      <td>Fiction</td>\n",
              "    </tr>\n",
              "    <tr>\n",
              "      <th>546</th>\n",
              "      <td>You Are A Badass: How To Stop Doubting Your Gr...</td>\n",
              "      <td>Jen Sincero</td>\n",
              "      <td>4.7</td>\n",
              "      <td>14331</td>\n",
              "      <td>8</td>\n",
              "      <td>2016</td>\n",
              "      <td>Non Fiction</td>\n",
              "    </tr>\n",
              "    <tr>\n",
              "      <th>547</th>\n",
              "      <td>You Are A Badass: How To Stop Doubting Your Gr...</td>\n",
              "      <td>Jen Sincero</td>\n",
              "      <td>4.7</td>\n",
              "      <td>14331</td>\n",
              "      <td>8</td>\n",
              "      <td>2017</td>\n",
              "      <td>Non Fiction</td>\n",
              "    </tr>\n",
              "    <tr>\n",
              "      <th>548</th>\n",
              "      <td>You Are A Badass: How To Stop Doubting Your Gr...</td>\n",
              "      <td>Jen Sincero</td>\n",
              "      <td>4.7</td>\n",
              "      <td>14331</td>\n",
              "      <td>8</td>\n",
              "      <td>2018</td>\n",
              "      <td>Non Fiction</td>\n",
              "    </tr>\n",
              "    <tr>\n",
              "      <th>549</th>\n",
              "      <td>You Are A Badass: How To Stop Doubting Your Gr...</td>\n",
              "      <td>Jen Sincero</td>\n",
              "      <td>4.7</td>\n",
              "      <td>14331</td>\n",
              "      <td>8</td>\n",
              "      <td>2019</td>\n",
              "      <td>Non Fiction</td>\n",
              "    </tr>\n",
              "  </tbody>\n",
              "</table>\n",
              "</div>"
            ],
            "text/plain": [
              "                                                  Name  ...        Genre\n",
              "545       Wrecking Ball (Diary Of A Wimpy Kid Book 14)  ...      Fiction\n",
              "546  You Are A Badass: How To Stop Doubting Your Gr...  ...  Non Fiction\n",
              "547  You Are A Badass: How To Stop Doubting Your Gr...  ...  Non Fiction\n",
              "548  You Are A Badass: How To Stop Doubting Your Gr...  ...  Non Fiction\n",
              "549  You Are A Badass: How To Stop Doubting Your Gr...  ...  Non Fiction\n",
              "\n",
              "[5 rows x 7 columns]"
            ]
          },
          "metadata": {},
          "execution_count": 27
        }
      ]
    },
    {
      "cell_type": "code",
      "source": [
        "#Delete the year column\n",
        "del bestsellers['Year']"
      ],
      "metadata": {
        "id": "mJF8O9ICJxI0"
      },
      "execution_count": 28,
      "outputs": []
    },
    {
      "cell_type": "code",
      "source": [
        "#Remove duplicates and check how many books are left in the data\n",
        "bestsellers=bestsellers.drop_duplicates(keep='first')\n",
        "bestsellers.info()"
      ],
      "metadata": {
        "colab": {
          "base_uri": "https://localhost:8080/"
        },
        "id": "dsG2D8YpJ4XX",
        "outputId": "c5e167c3-79ca-4ce7-e170-c46075e84737"
      },
      "execution_count": 29,
      "outputs": [
        {
          "output_type": "stream",
          "name": "stdout",
          "text": [
            "<class 'pandas.core.frame.DataFrame'>\n",
            "Int64Index: 361 entries, 0 to 546\n",
            "Data columns (total 6 columns):\n",
            " #   Column       Non-Null Count  Dtype   \n",
            "---  ------       --------------  -----   \n",
            " 0   Name         361 non-null    object  \n",
            " 1   Author       361 non-null    object  \n",
            " 2   User Rating  361 non-null    float64 \n",
            " 3   Reviews      361 non-null    int64   \n",
            " 4   Price        361 non-null    int64   \n",
            " 5   Genre        361 non-null    category\n",
            "dtypes: category(1), float64(1), int64(2), object(2)\n",
            "memory usage: 17.4+ KB\n"
          ]
        }
      ]
    },
    {
      "cell_type": "code",
      "source": [
        "#Count the number of each book in the data\n",
        "count_books=collections.Counter(bestsellers.Name.tolist())\n",
        "print(count_books.most_common(11))"
      ],
      "metadata": {
        "colab": {
          "base_uri": "https://localhost:8080/"
        },
        "id": "XEsYXkcCJ4aM",
        "outputId": "c817d700-7a46-48ad-ba49-ccc700aae0a3"
      },
      "execution_count": 30,
      "outputs": [
        {
          "output_type": "stream",
          "name": "stdout",
          "text": [
            "[('The Help', 3), ('Gone Girl', 2), (\"Quiet: The Power Of Introverts In A World That Can'T Stop Talking\", 2), ('The 5 Love Languages: The Secret To Love That Lasts', 2), ('The 7 Habits Of Highly Effective People: Powerful Lessons In Personal Change', 2), ('The Fault In Our Stars', 2), ('The Girl On The Train', 2), ('The Immortal Life Of Henrietta Lacks', 2), ('To Kill A Mockingbird', 2), ('Unbroken: A World War Ii Story Of Survival, Resilience, And Redemption', 2), ('10-Day Green Smoothie Cleanse', 1)]\n"
          ]
        }
      ]
    },
    {
      "cell_type": "code",
      "source": [
        "#Display information on the book 'The Help'\n",
        "bestsellers[bestsellers['Name']=='The Help']"
      ],
      "metadata": {
        "colab": {
          "base_uri": "https://localhost:8080/",
          "height": 143
        },
        "id": "nKgESck8J4ct",
        "outputId": "aa15f464-ee6f-4e87-cba8-424c3a3d5d0f"
      },
      "execution_count": 31,
      "outputs": [
        {
          "output_type": "execute_result",
          "data": {
            "text/html": [
              "<div>\n",
              "<style scoped>\n",
              "    .dataframe tbody tr th:only-of-type {\n",
              "        vertical-align: middle;\n",
              "    }\n",
              "\n",
              "    .dataframe tbody tr th {\n",
              "        vertical-align: top;\n",
              "    }\n",
              "\n",
              "    .dataframe thead th {\n",
              "        text-align: right;\n",
              "    }\n",
              "</style>\n",
              "<table border=\"1\" class=\"dataframe\">\n",
              "  <thead>\n",
              "    <tr style=\"text-align: right;\">\n",
              "      <th></th>\n",
              "      <th>Name</th>\n",
              "      <th>Author</th>\n",
              "      <th>User Rating</th>\n",
              "      <th>Reviews</th>\n",
              "      <th>Price</th>\n",
              "      <th>Genre</th>\n",
              "    </tr>\n",
              "  </thead>\n",
              "  <tbody>\n",
              "    <tr>\n",
              "      <th>402</th>\n",
              "      <td>The Help</td>\n",
              "      <td>Kathryn Stockett</td>\n",
              "      <td>4.8</td>\n",
              "      <td>13871</td>\n",
              "      <td>6</td>\n",
              "      <td>Fiction</td>\n",
              "    </tr>\n",
              "    <tr>\n",
              "      <th>404</th>\n",
              "      <td>The Help</td>\n",
              "      <td>Kathryn Stockett</td>\n",
              "      <td>4.8</td>\n",
              "      <td>13871</td>\n",
              "      <td>8</td>\n",
              "      <td>Fiction</td>\n",
              "    </tr>\n",
              "    <tr>\n",
              "      <th>405</th>\n",
              "      <td>The Help</td>\n",
              "      <td>Kathryn Stockett</td>\n",
              "      <td>4.8</td>\n",
              "      <td>13871</td>\n",
              "      <td>7</td>\n",
              "      <td>Fiction</td>\n",
              "    </tr>\n",
              "  </tbody>\n",
              "</table>\n",
              "</div>"
            ],
            "text/plain": [
              "         Name            Author  User Rating  Reviews  Price    Genre\n",
              "402  The Help  Kathryn Stockett          4.8    13871      6  Fiction\n",
              "404  The Help  Kathryn Stockett          4.8    13871      8  Fiction\n",
              "405  The Help  Kathryn Stockett          4.8    13871      7  Fiction"
            ]
          },
          "metadata": {},
          "execution_count": 31
        }
      ]
    },
    {
      "cell_type": "code",
      "source": [
        "#Drop duplicates\n",
        "bestsellers=bestsellers.drop_duplicates(subset='Name',keep='last')\n",
        "bestsellers"
      ],
      "metadata": {
        "colab": {
          "base_uri": "https://localhost:8080/",
          "height": 423
        },
        "id": "BCrMu0XGJ4ff",
        "outputId": "0d741044-6d81-46ca-f34c-5243a47dd409"
      },
      "execution_count": 32,
      "outputs": [
        {
          "output_type": "execute_result",
          "data": {
            "text/html": [
              "<div>\n",
              "<style scoped>\n",
              "    .dataframe tbody tr th:only-of-type {\n",
              "        vertical-align: middle;\n",
              "    }\n",
              "\n",
              "    .dataframe tbody tr th {\n",
              "        vertical-align: top;\n",
              "    }\n",
              "\n",
              "    .dataframe thead th {\n",
              "        text-align: right;\n",
              "    }\n",
              "</style>\n",
              "<table border=\"1\" class=\"dataframe\">\n",
              "  <thead>\n",
              "    <tr style=\"text-align: right;\">\n",
              "      <th></th>\n",
              "      <th>Name</th>\n",
              "      <th>Author</th>\n",
              "      <th>User Rating</th>\n",
              "      <th>Reviews</th>\n",
              "      <th>Price</th>\n",
              "      <th>Genre</th>\n",
              "    </tr>\n",
              "  </thead>\n",
              "  <tbody>\n",
              "    <tr>\n",
              "      <th>0</th>\n",
              "      <td>10-Day Green Smoothie Cleanse</td>\n",
              "      <td>JJ Smith</td>\n",
              "      <td>4.7</td>\n",
              "      <td>17350</td>\n",
              "      <td>8</td>\n",
              "      <td>Non Fiction</td>\n",
              "    </tr>\n",
              "    <tr>\n",
              "      <th>1</th>\n",
              "      <td>11/22/63: A Novel</td>\n",
              "      <td>Stephen King</td>\n",
              "      <td>4.6</td>\n",
              "      <td>2052</td>\n",
              "      <td>22</td>\n",
              "      <td>Fiction</td>\n",
              "    </tr>\n",
              "    <tr>\n",
              "      <th>2</th>\n",
              "      <td>12 Rules For Life: An Antidote To Chaos</td>\n",
              "      <td>Jordan B. Peterson</td>\n",
              "      <td>4.7</td>\n",
              "      <td>18979</td>\n",
              "      <td>15</td>\n",
              "      <td>Non Fiction</td>\n",
              "    </tr>\n",
              "    <tr>\n",
              "      <th>3</th>\n",
              "      <td>1984 (Signet Classics)</td>\n",
              "      <td>George Orwell</td>\n",
              "      <td>4.7</td>\n",
              "      <td>21424</td>\n",
              "      <td>6</td>\n",
              "      <td>Fiction</td>\n",
              "    </tr>\n",
              "    <tr>\n",
              "      <th>4</th>\n",
              "      <td>5,000 Awesome Facts (About Everything!) (Natio...</td>\n",
              "      <td>National Geographic Kids</td>\n",
              "      <td>4.8</td>\n",
              "      <td>7665</td>\n",
              "      <td>12</td>\n",
              "      <td>Non Fiction</td>\n",
              "    </tr>\n",
              "    <tr>\n",
              "      <th>...</th>\n",
              "      <td>...</td>\n",
              "      <td>...</td>\n",
              "      <td>...</td>\n",
              "      <td>...</td>\n",
              "      <td>...</td>\n",
              "      <td>...</td>\n",
              "    </tr>\n",
              "    <tr>\n",
              "      <th>538</th>\n",
              "      <td>Winter Of The World: Book Two Of The Century T...</td>\n",
              "      <td>Ken Follett</td>\n",
              "      <td>4.5</td>\n",
              "      <td>10760</td>\n",
              "      <td>15</td>\n",
              "      <td>Fiction</td>\n",
              "    </tr>\n",
              "    <tr>\n",
              "      <th>539</th>\n",
              "      <td>Women Food And God: An Unexpected Path To Almo...</td>\n",
              "      <td>Geneen Roth</td>\n",
              "      <td>4.2</td>\n",
              "      <td>1302</td>\n",
              "      <td>11</td>\n",
              "      <td>Non Fiction</td>\n",
              "    </tr>\n",
              "    <tr>\n",
              "      <th>540</th>\n",
              "      <td>Wonder</td>\n",
              "      <td>R. J. Palacio</td>\n",
              "      <td>4.8</td>\n",
              "      <td>21625</td>\n",
              "      <td>9</td>\n",
              "      <td>Fiction</td>\n",
              "    </tr>\n",
              "    <tr>\n",
              "      <th>545</th>\n",
              "      <td>Wrecking Ball (Diary Of A Wimpy Kid Book 14)</td>\n",
              "      <td>Jeff Kinney</td>\n",
              "      <td>4.9</td>\n",
              "      <td>9413</td>\n",
              "      <td>8</td>\n",
              "      <td>Fiction</td>\n",
              "    </tr>\n",
              "    <tr>\n",
              "      <th>546</th>\n",
              "      <td>You Are A Badass: How To Stop Doubting Your Gr...</td>\n",
              "      <td>Jen Sincero</td>\n",
              "      <td>4.7</td>\n",
              "      <td>14331</td>\n",
              "      <td>8</td>\n",
              "      <td>Non Fiction</td>\n",
              "    </tr>\n",
              "  </tbody>\n",
              "</table>\n",
              "<p>350 rows × 6 columns</p>\n",
              "</div>"
            ],
            "text/plain": [
              "                                                  Name  ...        Genre\n",
              "0                        10-Day Green Smoothie Cleanse  ...  Non Fiction\n",
              "1                                    11/22/63: A Novel  ...      Fiction\n",
              "2              12 Rules For Life: An Antidote To Chaos  ...  Non Fiction\n",
              "3                               1984 (Signet Classics)  ...      Fiction\n",
              "4    5,000 Awesome Facts (About Everything!) (Natio...  ...  Non Fiction\n",
              "..                                                 ...  ...          ...\n",
              "538  Winter Of The World: Book Two Of The Century T...  ...      Fiction\n",
              "539  Women Food And God: An Unexpected Path To Almo...  ...  Non Fiction\n",
              "540                                             Wonder  ...      Fiction\n",
              "545       Wrecking Ball (Diary Of A Wimpy Kid Book 14)  ...      Fiction\n",
              "546  You Are A Badass: How To Stop Doubting Your Gr...  ...  Non Fiction\n",
              "\n",
              "[350 rows x 6 columns]"
            ]
          },
          "metadata": {},
          "execution_count": 32
        }
      ]
    },
    {
      "cell_type": "markdown",
      "source": [
        ""
      ],
      "metadata": {
        "id": "FK4ts5FxKBVv"
      }
    },
    {
      "cell_type": "code",
      "source": [
        "#We take all authors with the highest average rating\n",
        "top_13_authors=bestsellers.groupby('Author')[['User Rating']].mean().sort_values('User Rating', ascending=False).head(13).reset_index()\n",
        "\n",
        "#Authors who have written the most bestsellers\n",
        "number_of_books_written=bestsellers.groupby('Author')[['Name']].count().sort_values('Name', ascending=False).head(10).reset_index()\n",
        "\n",
        "# We take books with the number of reviews\n",
        "books_with_the_number_of_reviews = bestsellers.groupby('Name')[['Reviews']].sum().sort_values('Reviews', ascending=False).head(5).reset_index()\n",
        "\n",
        "# We take the number of books by genre\n",
        "number_of_books_by_genre = bestsellers.groupby('Genre')[['Name']].count().sort_values('Name', ascending=False).head(10).reset_index()\n",
        "#Setting the visualization parameters\n",
        "fig_1=make_subplots(rows=1,cols=1,subplot_titles=(''))#set the number of rows and columns\n",
        "\n",
        "#Setting table parameters\n",
        "fig_1.add_trace(go.Table(columnorder=[1,2],columnwidth=[100,50],\n",
        "                         header=dict(values=top_13_authors.columns,\n",
        "                                     line_color='darkslategray',\n",
        "                                     fill_color='Salmon',\n",
        "                                     height=30),\n",
        "                         cells=dict(values=[top_13_authors['Author'],\n",
        "                                    top_13_authors['User Rating']], \n",
        "                                    line_color='darkslategray',\n",
        "                                    fill_color='White')))\n",
        "# Setting the parameters of the chart \n",
        "fig_1.update_layout(showlegend=False, \n",
        "                    title_text='Top 13 best authors', \n",
        "                    title_font_size=16, \n",
        "                    title_font_family='Arial', \n",
        "                    title_x=0.5,\n",
        "                    font=dict(family='Arial', \n",
        "                              size=12, \n",
        "                              color='black'))\n",
        "# Displaying the graph\n",
        "fig_1.show()\n",
        "\n",
        "# Let's set the visualization parameters\n",
        "fig_2 = make_subplots(rows=1, cols=2,\n",
        "                      specs=[[{'type': 'xy'}, {\"type\": \"xy\"}]],\n",
        "                      subplot_titles=(\"Top 10 authors by number of bestsellers\", \n",
        "                                      \"Top 5 books by number of reviews\"))\n",
        "# Setting Bar parameters\n",
        "fig_2.add_trace(go.Bar(x=number_of_books_written['Author'], \n",
        "                       y=number_of_books_written['Name'],\n",
        "                       name ='Count books',\n",
        "                       marker_color=['#ff6666','#f76e6e', '#f07575', '#e87d7d', '#e08585',\n",
        "                                     '#d98c8c', '#d19494', '#c99c9c', '#c2a3a3', '#baabab']),\n",
        "                       row=1, col=1)\n",
        "\n",
        "# Setting Bar parameters\n",
        "fig_2.add_trace(go.Bar(x=books_with_the_number_of_reviews['Name'], \n",
        "                       y=books_with_the_number_of_reviews['Reviews'],\n",
        "                       marker_color=['#ff6666','#f47171', '#e87d7d', '#dd8888', '#d19494'],\n",
        "                       name ='Reviews'),\n",
        "                       row=1, col=2)\n",
        "\n",
        "# Setting the parameters of the chart when displaying\n",
        "fig_2.update_traces(marker_line_color='Gray',\n",
        "                    marker_line_width=1)\n",
        "\n",
        "# Setting the parameters of the chart when displaying\n",
        "fig_2.update_layout(showlegend=False, \n",
        "                    plot_bgcolor='rgba(0,0,0,0)',\n",
        "                    font=dict(family='Arial', \n",
        "                              size=12, \n",
        "                              color='black'))\n",
        "\n",
        "# Displaying the graph\n",
        "fig_2.show()\n",
        "\n",
        "# Let's set the visualization parameters\n",
        "fig_3 = make_subplots(rows=1, cols=1,\n",
        "                      specs=[[{'type': 'domain'}]],\n",
        "                      subplot_titles=(\"\"))\n",
        "# Setting Pie parameters\n",
        "fig_3.add_trace(go.Pie(values=number_of_books_by_genre['Name'],\n",
        "                       title='Genre',\n",
        "                       labels=['Non Fiction', 'Fiction'],\n",
        "                       textinfo='label+percent',\n",
        "                       insidetextorientation='radial',\n",
        "                       hole=0.3,\n",
        "                       marker=dict(colors=['Gray','Salmon'], \n",
        "                                   line_color='Gray', \n",
        "                                   line_width=1),\n",
        "                       textfont={'color': '#FFFFFF', 'size': 12},\n",
        "                       textfont_size=12))\n",
        "\n",
        "# Setting the parameters of the chart when displaying\n",
        "fig_3.update_layout(margin_t=30, \n",
        "                    showlegend=False, \n",
        "                    title_text='Count of books genre', \n",
        "                    title_x=0.5, \n",
        "                    font=dict(family='Arial', \n",
        "                              size=12, \n",
        "                              color='black'))\n",
        "\n",
        "# Displaying the graph\n",
        "fig_3.show()"
      ],
      "metadata": {
        "colab": {
          "base_uri": "https://localhost:8080/",
          "height": 1000
        },
        "id": "380-8Ds5KOwl",
        "outputId": "f6378b5e-fde8-4b24-9f85-69236694e73a"
      },
      "execution_count": 33,
      "outputs": [
        {
          "output_type": "display_data",
          "data": {
            "text/html": [
              "<html>\n",
              "<head><meta charset=\"utf-8\" /></head>\n",
              "<body>\n",
              "    <div>\n",
              "            <script src=\"https://cdnjs.cloudflare.com/ajax/libs/mathjax/2.7.5/MathJax.js?config=TeX-AMS-MML_SVG\"></script><script type=\"text/javascript\">if (window.MathJax) {MathJax.Hub.Config({SVG: {font: \"STIX-Web\"}});}</script>\n",
              "                <script type=\"text/javascript\">window.PlotlyConfig = {MathJaxConfig: 'local'};</script>\n",
              "        <script src=\"https://cdn.plot.ly/plotly-latest.min.js\"></script>    \n",
              "            <div id=\"109b3b33-1c37-40a1-8a48-56d316c33b57\" class=\"plotly-graph-div\" style=\"height:525px; width:100%;\"></div>\n",
              "            <script type=\"text/javascript\">\n",
              "                \n",
              "                    window.PLOTLYENV=window.PLOTLYENV || {};\n",
              "                    \n",
              "                if (document.getElementById(\"109b3b33-1c37-40a1-8a48-56d316c33b57\")) {\n",
              "                    Plotly.newPlot(\n",
              "                        '109b3b33-1c37-40a1-8a48-56d316c33b57',\n",
              "                        [{\"cells\": {\"fill\": {\"color\": \"White\"}, \"line\": {\"color\": \"darkslategray\"}, \"values\": [[\"Nathan W. Pyle\", \"Patrick Thorpe\", \"Eric Carle\", \"Emily Winfield Martin\", \"Chip Gaines\", \"Jill Twiss\", \"Rush Limbaugh\", \"Sherri Duskey Rinker\", \"Alice Schertle\", \"Pete Souza\", \"Sarah Young\", \"Lin-Manuel Miranda\", \"Bill Martin Jr.\"], [4.9, 4.9, 4.9, 4.9, 4.9, 4.9, 4.9, 4.9, 4.9, 4.9, 4.9, 4.9, 4.9]]}, \"columnorder\": [1, 2], \"columnwidth\": [100, 50], \"header\": {\"fill\": {\"color\": \"Salmon\"}, \"height\": 30, \"line\": {\"color\": \"darkslategray\"}, \"values\": [\"Author\", \"User Rating\"]}, \"type\": \"table\"}],\n",
              "                        {\"font\": {\"color\": \"black\", \"family\": \"Arial\", \"size\": 12}, \"showlegend\": false, \"template\": {\"data\": {\"bar\": [{\"error_x\": {\"color\": \"#2a3f5f\"}, \"error_y\": {\"color\": \"#2a3f5f\"}, \"marker\": {\"line\": {\"color\": \"#E5ECF6\", \"width\": 0.5}}, \"type\": \"bar\"}], \"barpolar\": [{\"marker\": {\"line\": {\"color\": \"#E5ECF6\", \"width\": 0.5}}, \"type\": \"barpolar\"}], \"carpet\": [{\"aaxis\": {\"endlinecolor\": \"#2a3f5f\", \"gridcolor\": \"white\", \"linecolor\": \"white\", \"minorgridcolor\": \"white\", \"startlinecolor\": \"#2a3f5f\"}, \"baxis\": {\"endlinecolor\": \"#2a3f5f\", \"gridcolor\": \"white\", \"linecolor\": \"white\", \"minorgridcolor\": \"white\", \"startlinecolor\": \"#2a3f5f\"}, \"type\": \"carpet\"}], \"choropleth\": [{\"colorbar\": {\"outlinewidth\": 0, \"ticks\": \"\"}, \"type\": \"choropleth\"}], \"contour\": [{\"colorbar\": {\"outlinewidth\": 0, \"ticks\": \"\"}, \"colorscale\": [[0.0, \"#0d0887\"], [0.1111111111111111, \"#46039f\"], [0.2222222222222222, \"#7201a8\"], [0.3333333333333333, \"#9c179e\"], [0.4444444444444444, \"#bd3786\"], [0.5555555555555556, \"#d8576b\"], [0.6666666666666666, \"#ed7953\"], [0.7777777777777778, \"#fb9f3a\"], [0.8888888888888888, \"#fdca26\"], [1.0, \"#f0f921\"]], \"type\": \"contour\"}], \"contourcarpet\": [{\"colorbar\": {\"outlinewidth\": 0, \"ticks\": \"\"}, \"type\": \"contourcarpet\"}], \"heatmap\": [{\"colorbar\": {\"outlinewidth\": 0, \"ticks\": \"\"}, \"colorscale\": [[0.0, \"#0d0887\"], [0.1111111111111111, \"#46039f\"], [0.2222222222222222, \"#7201a8\"], [0.3333333333333333, \"#9c179e\"], [0.4444444444444444, \"#bd3786\"], [0.5555555555555556, \"#d8576b\"], [0.6666666666666666, \"#ed7953\"], [0.7777777777777778, \"#fb9f3a\"], [0.8888888888888888, \"#fdca26\"], [1.0, \"#f0f921\"]], \"type\": \"heatmap\"}], \"heatmapgl\": [{\"colorbar\": {\"outlinewidth\": 0, \"ticks\": \"\"}, \"colorscale\": [[0.0, \"#0d0887\"], [0.1111111111111111, \"#46039f\"], [0.2222222222222222, \"#7201a8\"], [0.3333333333333333, \"#9c179e\"], [0.4444444444444444, \"#bd3786\"], [0.5555555555555556, \"#d8576b\"], [0.6666666666666666, \"#ed7953\"], [0.7777777777777778, \"#fb9f3a\"], [0.8888888888888888, \"#fdca26\"], [1.0, \"#f0f921\"]], \"type\": \"heatmapgl\"}], \"histogram\": [{\"marker\": {\"colorbar\": {\"outlinewidth\": 0, \"ticks\": \"\"}}, \"type\": \"histogram\"}], \"histogram2d\": [{\"colorbar\": {\"outlinewidth\": 0, \"ticks\": \"\"}, \"colorscale\": [[0.0, \"#0d0887\"], [0.1111111111111111, \"#46039f\"], [0.2222222222222222, \"#7201a8\"], [0.3333333333333333, \"#9c179e\"], [0.4444444444444444, \"#bd3786\"], [0.5555555555555556, \"#d8576b\"], [0.6666666666666666, \"#ed7953\"], [0.7777777777777778, \"#fb9f3a\"], [0.8888888888888888, \"#fdca26\"], [1.0, \"#f0f921\"]], \"type\": \"histogram2d\"}], \"histogram2dcontour\": [{\"colorbar\": {\"outlinewidth\": 0, \"ticks\": \"\"}, \"colorscale\": [[0.0, \"#0d0887\"], [0.1111111111111111, \"#46039f\"], [0.2222222222222222, \"#7201a8\"], [0.3333333333333333, \"#9c179e\"], [0.4444444444444444, \"#bd3786\"], [0.5555555555555556, \"#d8576b\"], [0.6666666666666666, \"#ed7953\"], [0.7777777777777778, \"#fb9f3a\"], [0.8888888888888888, \"#fdca26\"], [1.0, \"#f0f921\"]], \"type\": \"histogram2dcontour\"}], \"mesh3d\": [{\"colorbar\": {\"outlinewidth\": 0, \"ticks\": \"\"}, \"type\": \"mesh3d\"}], \"parcoords\": [{\"line\": {\"colorbar\": {\"outlinewidth\": 0, \"ticks\": \"\"}}, \"type\": \"parcoords\"}], \"pie\": [{\"automargin\": true, \"type\": \"pie\"}], \"scatter\": [{\"marker\": {\"colorbar\": {\"outlinewidth\": 0, \"ticks\": \"\"}}, \"type\": \"scatter\"}], \"scatter3d\": [{\"line\": {\"colorbar\": {\"outlinewidth\": 0, \"ticks\": \"\"}}, \"marker\": {\"colorbar\": {\"outlinewidth\": 0, \"ticks\": \"\"}}, \"type\": \"scatter3d\"}], \"scattercarpet\": [{\"marker\": {\"colorbar\": {\"outlinewidth\": 0, \"ticks\": \"\"}}, \"type\": \"scattercarpet\"}], \"scattergeo\": [{\"marker\": {\"colorbar\": {\"outlinewidth\": 0, \"ticks\": \"\"}}, \"type\": \"scattergeo\"}], \"scattergl\": [{\"marker\": {\"colorbar\": {\"outlinewidth\": 0, \"ticks\": \"\"}}, \"type\": \"scattergl\"}], \"scattermapbox\": [{\"marker\": {\"colorbar\": {\"outlinewidth\": 0, \"ticks\": \"\"}}, \"type\": \"scattermapbox\"}], \"scatterpolar\": [{\"marker\": {\"colorbar\": {\"outlinewidth\": 0, \"ticks\": \"\"}}, \"type\": \"scatterpolar\"}], \"scatterpolargl\": [{\"marker\": {\"colorbar\": {\"outlinewidth\": 0, \"ticks\": \"\"}}, \"type\": \"scatterpolargl\"}], \"scatterternary\": [{\"marker\": {\"colorbar\": {\"outlinewidth\": 0, \"ticks\": \"\"}}, \"type\": \"scatterternary\"}], \"surface\": [{\"colorbar\": {\"outlinewidth\": 0, \"ticks\": \"\"}, \"colorscale\": [[0.0, \"#0d0887\"], [0.1111111111111111, \"#46039f\"], [0.2222222222222222, \"#7201a8\"], [0.3333333333333333, \"#9c179e\"], [0.4444444444444444, \"#bd3786\"], [0.5555555555555556, \"#d8576b\"], [0.6666666666666666, \"#ed7953\"], [0.7777777777777778, \"#fb9f3a\"], [0.8888888888888888, \"#fdca26\"], [1.0, \"#f0f921\"]], \"type\": \"surface\"}], \"table\": [{\"cells\": {\"fill\": {\"color\": \"#EBF0F8\"}, \"line\": {\"color\": \"white\"}}, \"header\": {\"fill\": {\"color\": \"#C8D4E3\"}, \"line\": {\"color\": \"white\"}}, \"type\": \"table\"}]}, \"layout\": {\"annotationdefaults\": {\"arrowcolor\": \"#2a3f5f\", \"arrowhead\": 0, \"arrowwidth\": 1}, \"coloraxis\": {\"colorbar\": {\"outlinewidth\": 0, \"ticks\": \"\"}}, \"colorscale\": {\"diverging\": [[0, \"#8e0152\"], [0.1, \"#c51b7d\"], [0.2, \"#de77ae\"], [0.3, \"#f1b6da\"], [0.4, \"#fde0ef\"], [0.5, \"#f7f7f7\"], [0.6, \"#e6f5d0\"], [0.7, \"#b8e186\"], [0.8, \"#7fbc41\"], [0.9, \"#4d9221\"], [1, \"#276419\"]], \"sequential\": [[0.0, \"#0d0887\"], [0.1111111111111111, \"#46039f\"], [0.2222222222222222, \"#7201a8\"], [0.3333333333333333, \"#9c179e\"], [0.4444444444444444, \"#bd3786\"], [0.5555555555555556, \"#d8576b\"], [0.6666666666666666, \"#ed7953\"], [0.7777777777777778, \"#fb9f3a\"], [0.8888888888888888, \"#fdca26\"], [1.0, \"#f0f921\"]], \"sequentialminus\": [[0.0, \"#0d0887\"], [0.1111111111111111, \"#46039f\"], [0.2222222222222222, \"#7201a8\"], [0.3333333333333333, \"#9c179e\"], [0.4444444444444444, \"#bd3786\"], [0.5555555555555556, \"#d8576b\"], [0.6666666666666666, \"#ed7953\"], [0.7777777777777778, \"#fb9f3a\"], [0.8888888888888888, \"#fdca26\"], [1.0, \"#f0f921\"]]}, \"colorway\": [\"#636efa\", \"#EF553B\", \"#00cc96\", \"#ab63fa\", \"#FFA15A\", \"#19d3f3\", \"#FF6692\", \"#B6E880\", \"#FF97FF\", \"#FECB52\"], \"font\": {\"color\": \"#2a3f5f\"}, \"geo\": {\"bgcolor\": \"white\", \"lakecolor\": \"white\", \"landcolor\": \"#E5ECF6\", \"showlakes\": true, \"showland\": true, \"subunitcolor\": \"white\"}, \"hoverlabel\": {\"align\": \"left\"}, \"hovermode\": \"closest\", \"mapbox\": {\"style\": \"light\"}, \"paper_bgcolor\": \"white\", \"plot_bgcolor\": \"#E5ECF6\", \"polar\": {\"angularaxis\": {\"gridcolor\": \"white\", \"linecolor\": \"white\", \"ticks\": \"\"}, \"bgcolor\": \"#E5ECF6\", \"radialaxis\": {\"gridcolor\": \"white\", \"linecolor\": \"white\", \"ticks\": \"\"}}, \"scene\": {\"xaxis\": {\"backgroundcolor\": \"#E5ECF6\", \"gridcolor\": \"white\", \"gridwidth\": 2, \"linecolor\": \"white\", \"showbackground\": true, \"ticks\": \"\", \"zerolinecolor\": \"white\"}, \"yaxis\": {\"backgroundcolor\": \"#E5ECF6\", \"gridcolor\": \"white\", \"gridwidth\": 2, \"linecolor\": \"white\", \"showbackground\": true, \"ticks\": \"\", \"zerolinecolor\": \"white\"}, \"zaxis\": {\"backgroundcolor\": \"#E5ECF6\", \"gridcolor\": \"white\", \"gridwidth\": 2, \"linecolor\": \"white\", \"showbackground\": true, \"ticks\": \"\", \"zerolinecolor\": \"white\"}}, \"shapedefaults\": {\"line\": {\"color\": \"#2a3f5f\"}}, \"ternary\": {\"aaxis\": {\"gridcolor\": \"white\", \"linecolor\": \"white\", \"ticks\": \"\"}, \"baxis\": {\"gridcolor\": \"white\", \"linecolor\": \"white\", \"ticks\": \"\"}, \"bgcolor\": \"#E5ECF6\", \"caxis\": {\"gridcolor\": \"white\", \"linecolor\": \"white\", \"ticks\": \"\"}}, \"title\": {\"x\": 0.05}, \"xaxis\": {\"automargin\": true, \"gridcolor\": \"white\", \"linecolor\": \"white\", \"ticks\": \"\", \"title\": {\"standoff\": 15}, \"zerolinecolor\": \"white\", \"zerolinewidth\": 2}, \"yaxis\": {\"automargin\": true, \"gridcolor\": \"white\", \"linecolor\": \"white\", \"ticks\": \"\", \"title\": {\"standoff\": 15}, \"zerolinecolor\": \"white\", \"zerolinewidth\": 2}}}, \"title\": {\"font\": {\"family\": \"Arial\", \"size\": 16}, \"text\": \"Top 13 best authors\", \"x\": 0.5}, \"xaxis\": {\"anchor\": \"y\", \"domain\": [0.0, 1.0]}, \"yaxis\": {\"anchor\": \"x\", \"domain\": [0.0, 1.0]}},\n",
              "                        {\"responsive\": true}\n",
              "                    ).then(function(){\n",
              "                            \n",
              "var gd = document.getElementById('109b3b33-1c37-40a1-8a48-56d316c33b57');\n",
              "var x = new MutationObserver(function (mutations, observer) {{\n",
              "        var display = window.getComputedStyle(gd).display;\n",
              "        if (!display || display === 'none') {{\n",
              "            console.log([gd, 'removed!']);\n",
              "            Plotly.purge(gd);\n",
              "            observer.disconnect();\n",
              "        }}\n",
              "}});\n",
              "\n",
              "// Listen for the removal of the full notebook cells\n",
              "var notebookContainer = gd.closest('#notebook-container');\n",
              "if (notebookContainer) {{\n",
              "    x.observe(notebookContainer, {childList: true});\n",
              "}}\n",
              "\n",
              "// Listen for the clearing of the current output cell\n",
              "var outputEl = gd.closest('.output');\n",
              "if (outputEl) {{\n",
              "    x.observe(outputEl, {childList: true});\n",
              "}}\n",
              "\n",
              "                        })\n",
              "                };\n",
              "                \n",
              "            </script>\n",
              "        </div>\n",
              "</body>\n",
              "</html>"
            ]
          },
          "metadata": {}
        },
        {
          "output_type": "display_data",
          "data": {
            "text/html": [
              "<html>\n",
              "<head><meta charset=\"utf-8\" /></head>\n",
              "<body>\n",
              "    <div>\n",
              "            <script src=\"https://cdnjs.cloudflare.com/ajax/libs/mathjax/2.7.5/MathJax.js?config=TeX-AMS-MML_SVG\"></script><script type=\"text/javascript\">if (window.MathJax) {MathJax.Hub.Config({SVG: {font: \"STIX-Web\"}});}</script>\n",
              "                <script type=\"text/javascript\">window.PlotlyConfig = {MathJaxConfig: 'local'};</script>\n",
              "        <script src=\"https://cdn.plot.ly/plotly-latest.min.js\"></script>    \n",
              "            <div id=\"cceb51fe-6b7b-4cd2-96a3-1ac914ff2886\" class=\"plotly-graph-div\" style=\"height:525px; width:100%;\"></div>\n",
              "            <script type=\"text/javascript\">\n",
              "                \n",
              "                    window.PLOTLYENV=window.PLOTLYENV || {};\n",
              "                    \n",
              "                if (document.getElementById(\"cceb51fe-6b7b-4cd2-96a3-1ac914ff2886\")) {\n",
              "                    Plotly.newPlot(\n",
              "                        'cceb51fe-6b7b-4cd2-96a3-1ac914ff2886',\n",
              "                        [{\"marker\": {\"color\": [\"#ff6666\", \"#f76e6e\", \"#f07575\", \"#e87d7d\", \"#e08585\", \"#d98c8c\", \"#d19494\", \"#c99c9c\", \"#c2a3a3\", \"#baabab\"], \"line\": {\"color\": \"Gray\", \"width\": 1}}, \"name\": \"Count books\", \"type\": \"bar\", \"x\": [\"Jeff Kinney\", \"Rick Riordan\", \"J.K. Rowling\", \"Stephenie Meyer\", \"Dav Pilkey\", \"Bill O'Reilly\", \"John Grisham\", \"E L James\", \"Suzanne Collins\", \"Charlaine Harris\"], \"xaxis\": \"x\", \"y\": [12, 10, 8, 7, 6, 6, 5, 5, 5, 4], \"yaxis\": \"y\"}, {\"marker\": {\"color\": [\"#ff6666\", \"#f47171\", \"#e87d7d\", \"#dd8888\", \"#d19494\"], \"line\": {\"color\": \"Gray\", \"width\": 1}}, \"name\": \"Reviews\", \"type\": \"bar\", \"x\": [\"Where The Crawdads Sing\", \"The Girl On The Train\", \"Becoming\", \"Gone Girl\", \"The Fault In Our Stars\"], \"xaxis\": \"x2\", \"y\": [87841, 79446, 61133, 57271, 50482], \"yaxis\": \"y2\"}],\n",
              "                        {\"annotations\": [{\"font\": {\"size\": 16}, \"showarrow\": false, \"text\": \"Top 10 authors by number of bestsellers\", \"x\": 0.225, \"xanchor\": \"center\", \"xref\": \"paper\", \"y\": 1.0, \"yanchor\": \"bottom\", \"yref\": \"paper\"}, {\"font\": {\"size\": 16}, \"showarrow\": false, \"text\": \"Top 5 books by number of reviews\", \"x\": 0.775, \"xanchor\": \"center\", \"xref\": \"paper\", \"y\": 1.0, \"yanchor\": \"bottom\", \"yref\": \"paper\"}], \"font\": {\"color\": \"black\", \"family\": \"Arial\", \"size\": 12}, \"plot_bgcolor\": \"rgba(0,0,0,0)\", \"showlegend\": false, \"template\": {\"data\": {\"bar\": [{\"error_x\": {\"color\": \"#2a3f5f\"}, \"error_y\": {\"color\": \"#2a3f5f\"}, \"marker\": {\"line\": {\"color\": \"#E5ECF6\", \"width\": 0.5}}, \"type\": \"bar\"}], \"barpolar\": [{\"marker\": {\"line\": {\"color\": \"#E5ECF6\", \"width\": 0.5}}, \"type\": \"barpolar\"}], \"carpet\": [{\"aaxis\": {\"endlinecolor\": \"#2a3f5f\", \"gridcolor\": \"white\", \"linecolor\": \"white\", \"minorgridcolor\": \"white\", \"startlinecolor\": \"#2a3f5f\"}, \"baxis\": {\"endlinecolor\": \"#2a3f5f\", \"gridcolor\": \"white\", \"linecolor\": \"white\", \"minorgridcolor\": \"white\", \"startlinecolor\": \"#2a3f5f\"}, \"type\": \"carpet\"}], \"choropleth\": [{\"colorbar\": {\"outlinewidth\": 0, \"ticks\": \"\"}, \"type\": \"choropleth\"}], \"contour\": [{\"colorbar\": {\"outlinewidth\": 0, \"ticks\": \"\"}, \"colorscale\": [[0.0, \"#0d0887\"], [0.1111111111111111, \"#46039f\"], [0.2222222222222222, \"#7201a8\"], [0.3333333333333333, \"#9c179e\"], [0.4444444444444444, \"#bd3786\"], [0.5555555555555556, \"#d8576b\"], [0.6666666666666666, \"#ed7953\"], [0.7777777777777778, \"#fb9f3a\"], [0.8888888888888888, \"#fdca26\"], [1.0, \"#f0f921\"]], \"type\": \"contour\"}], \"contourcarpet\": [{\"colorbar\": {\"outlinewidth\": 0, \"ticks\": \"\"}, \"type\": \"contourcarpet\"}], \"heatmap\": [{\"colorbar\": {\"outlinewidth\": 0, \"ticks\": \"\"}, \"colorscale\": [[0.0, \"#0d0887\"], [0.1111111111111111, \"#46039f\"], [0.2222222222222222, \"#7201a8\"], [0.3333333333333333, \"#9c179e\"], [0.4444444444444444, \"#bd3786\"], [0.5555555555555556, \"#d8576b\"], [0.6666666666666666, \"#ed7953\"], [0.7777777777777778, \"#fb9f3a\"], [0.8888888888888888, \"#fdca26\"], [1.0, \"#f0f921\"]], \"type\": \"heatmap\"}], \"heatmapgl\": [{\"colorbar\": {\"outlinewidth\": 0, \"ticks\": \"\"}, \"colorscale\": [[0.0, \"#0d0887\"], [0.1111111111111111, \"#46039f\"], [0.2222222222222222, \"#7201a8\"], [0.3333333333333333, \"#9c179e\"], [0.4444444444444444, \"#bd3786\"], [0.5555555555555556, \"#d8576b\"], [0.6666666666666666, \"#ed7953\"], [0.7777777777777778, \"#fb9f3a\"], [0.8888888888888888, \"#fdca26\"], [1.0, \"#f0f921\"]], \"type\": \"heatmapgl\"}], \"histogram\": [{\"marker\": {\"colorbar\": {\"outlinewidth\": 0, \"ticks\": \"\"}}, \"type\": \"histogram\"}], \"histogram2d\": [{\"colorbar\": {\"outlinewidth\": 0, \"ticks\": \"\"}, \"colorscale\": [[0.0, \"#0d0887\"], [0.1111111111111111, \"#46039f\"], [0.2222222222222222, \"#7201a8\"], [0.3333333333333333, \"#9c179e\"], [0.4444444444444444, \"#bd3786\"], [0.5555555555555556, \"#d8576b\"], [0.6666666666666666, \"#ed7953\"], [0.7777777777777778, \"#fb9f3a\"], [0.8888888888888888, \"#fdca26\"], [1.0, \"#f0f921\"]], \"type\": \"histogram2d\"}], \"histogram2dcontour\": [{\"colorbar\": {\"outlinewidth\": 0, \"ticks\": \"\"}, \"colorscale\": [[0.0, \"#0d0887\"], [0.1111111111111111, \"#46039f\"], [0.2222222222222222, \"#7201a8\"], [0.3333333333333333, \"#9c179e\"], [0.4444444444444444, \"#bd3786\"], [0.5555555555555556, \"#d8576b\"], [0.6666666666666666, \"#ed7953\"], [0.7777777777777778, \"#fb9f3a\"], [0.8888888888888888, \"#fdca26\"], [1.0, \"#f0f921\"]], \"type\": \"histogram2dcontour\"}], \"mesh3d\": [{\"colorbar\": {\"outlinewidth\": 0, \"ticks\": \"\"}, \"type\": \"mesh3d\"}], \"parcoords\": [{\"line\": {\"colorbar\": {\"outlinewidth\": 0, \"ticks\": \"\"}}, \"type\": \"parcoords\"}], \"pie\": [{\"automargin\": true, \"type\": \"pie\"}], \"scatter\": [{\"marker\": {\"colorbar\": {\"outlinewidth\": 0, \"ticks\": \"\"}}, \"type\": \"scatter\"}], \"scatter3d\": [{\"line\": {\"colorbar\": {\"outlinewidth\": 0, \"ticks\": \"\"}}, \"marker\": {\"colorbar\": {\"outlinewidth\": 0, \"ticks\": \"\"}}, \"type\": \"scatter3d\"}], \"scattercarpet\": [{\"marker\": {\"colorbar\": {\"outlinewidth\": 0, \"ticks\": \"\"}}, \"type\": \"scattercarpet\"}], \"scattergeo\": [{\"marker\": {\"colorbar\": {\"outlinewidth\": 0, \"ticks\": \"\"}}, \"type\": \"scattergeo\"}], \"scattergl\": [{\"marker\": {\"colorbar\": {\"outlinewidth\": 0, \"ticks\": \"\"}}, \"type\": \"scattergl\"}], \"scattermapbox\": [{\"marker\": {\"colorbar\": {\"outlinewidth\": 0, \"ticks\": \"\"}}, \"type\": \"scattermapbox\"}], \"scatterpolar\": [{\"marker\": {\"colorbar\": {\"outlinewidth\": 0, \"ticks\": \"\"}}, \"type\": \"scatterpolar\"}], \"scatterpolargl\": [{\"marker\": {\"colorbar\": {\"outlinewidth\": 0, \"ticks\": \"\"}}, \"type\": \"scatterpolargl\"}], \"scatterternary\": [{\"marker\": {\"colorbar\": {\"outlinewidth\": 0, \"ticks\": \"\"}}, \"type\": \"scatterternary\"}], \"surface\": [{\"colorbar\": {\"outlinewidth\": 0, \"ticks\": \"\"}, \"colorscale\": [[0.0, \"#0d0887\"], [0.1111111111111111, \"#46039f\"], [0.2222222222222222, \"#7201a8\"], [0.3333333333333333, \"#9c179e\"], [0.4444444444444444, \"#bd3786\"], [0.5555555555555556, \"#d8576b\"], [0.6666666666666666, \"#ed7953\"], [0.7777777777777778, \"#fb9f3a\"], [0.8888888888888888, \"#fdca26\"], [1.0, \"#f0f921\"]], \"type\": \"surface\"}], \"table\": [{\"cells\": {\"fill\": {\"color\": \"#EBF0F8\"}, \"line\": {\"color\": \"white\"}}, \"header\": {\"fill\": {\"color\": \"#C8D4E3\"}, \"line\": {\"color\": \"white\"}}, \"type\": \"table\"}]}, \"layout\": {\"annotationdefaults\": {\"arrowcolor\": \"#2a3f5f\", \"arrowhead\": 0, \"arrowwidth\": 1}, \"coloraxis\": {\"colorbar\": {\"outlinewidth\": 0, \"ticks\": \"\"}}, \"colorscale\": {\"diverging\": [[0, \"#8e0152\"], [0.1, \"#c51b7d\"], [0.2, \"#de77ae\"], [0.3, \"#f1b6da\"], [0.4, \"#fde0ef\"], [0.5, \"#f7f7f7\"], [0.6, \"#e6f5d0\"], [0.7, \"#b8e186\"], [0.8, \"#7fbc41\"], [0.9, \"#4d9221\"], [1, \"#276419\"]], \"sequential\": [[0.0, \"#0d0887\"], [0.1111111111111111, \"#46039f\"], [0.2222222222222222, \"#7201a8\"], [0.3333333333333333, \"#9c179e\"], [0.4444444444444444, \"#bd3786\"], [0.5555555555555556, \"#d8576b\"], [0.6666666666666666, \"#ed7953\"], [0.7777777777777778, \"#fb9f3a\"], [0.8888888888888888, \"#fdca26\"], [1.0, \"#f0f921\"]], \"sequentialminus\": [[0.0, \"#0d0887\"], [0.1111111111111111, \"#46039f\"], [0.2222222222222222, \"#7201a8\"], [0.3333333333333333, \"#9c179e\"], [0.4444444444444444, \"#bd3786\"], [0.5555555555555556, \"#d8576b\"], [0.6666666666666666, \"#ed7953\"], [0.7777777777777778, \"#fb9f3a\"], [0.8888888888888888, \"#fdca26\"], [1.0, \"#f0f921\"]]}, \"colorway\": [\"#636efa\", \"#EF553B\", \"#00cc96\", \"#ab63fa\", \"#FFA15A\", \"#19d3f3\", \"#FF6692\", \"#B6E880\", \"#FF97FF\", \"#FECB52\"], \"font\": {\"color\": \"#2a3f5f\"}, \"geo\": {\"bgcolor\": \"white\", \"lakecolor\": \"white\", \"landcolor\": \"#E5ECF6\", \"showlakes\": true, \"showland\": true, \"subunitcolor\": \"white\"}, \"hoverlabel\": {\"align\": \"left\"}, \"hovermode\": \"closest\", \"mapbox\": {\"style\": \"light\"}, \"paper_bgcolor\": \"white\", \"plot_bgcolor\": \"#E5ECF6\", \"polar\": {\"angularaxis\": {\"gridcolor\": \"white\", \"linecolor\": \"white\", \"ticks\": \"\"}, \"bgcolor\": \"#E5ECF6\", \"radialaxis\": {\"gridcolor\": \"white\", \"linecolor\": \"white\", \"ticks\": \"\"}}, \"scene\": {\"xaxis\": {\"backgroundcolor\": \"#E5ECF6\", \"gridcolor\": \"white\", \"gridwidth\": 2, \"linecolor\": \"white\", \"showbackground\": true, \"ticks\": \"\", \"zerolinecolor\": \"white\"}, \"yaxis\": {\"backgroundcolor\": \"#E5ECF6\", \"gridcolor\": \"white\", \"gridwidth\": 2, \"linecolor\": \"white\", \"showbackground\": true, \"ticks\": \"\", \"zerolinecolor\": \"white\"}, \"zaxis\": {\"backgroundcolor\": \"#E5ECF6\", \"gridcolor\": \"white\", \"gridwidth\": 2, \"linecolor\": \"white\", \"showbackground\": true, \"ticks\": \"\", \"zerolinecolor\": \"white\"}}, \"shapedefaults\": {\"line\": {\"color\": \"#2a3f5f\"}}, \"ternary\": {\"aaxis\": {\"gridcolor\": \"white\", \"linecolor\": \"white\", \"ticks\": \"\"}, \"baxis\": {\"gridcolor\": \"white\", \"linecolor\": \"white\", \"ticks\": \"\"}, \"bgcolor\": \"#E5ECF6\", \"caxis\": {\"gridcolor\": \"white\", \"linecolor\": \"white\", \"ticks\": \"\"}}, \"title\": {\"x\": 0.05}, \"xaxis\": {\"automargin\": true, \"gridcolor\": \"white\", \"linecolor\": \"white\", \"ticks\": \"\", \"title\": {\"standoff\": 15}, \"zerolinecolor\": \"white\", \"zerolinewidth\": 2}, \"yaxis\": {\"automargin\": true, \"gridcolor\": \"white\", \"linecolor\": \"white\", \"ticks\": \"\", \"title\": {\"standoff\": 15}, \"zerolinecolor\": \"white\", \"zerolinewidth\": 2}}}, \"xaxis\": {\"anchor\": \"y\", \"domain\": [0.0, 0.45]}, \"xaxis2\": {\"anchor\": \"y2\", \"domain\": [0.55, 1.0]}, \"yaxis\": {\"anchor\": \"x\", \"domain\": [0.0, 1.0]}, \"yaxis2\": {\"anchor\": \"x2\", \"domain\": [0.0, 1.0]}},\n",
              "                        {\"responsive\": true}\n",
              "                    ).then(function(){\n",
              "                            \n",
              "var gd = document.getElementById('cceb51fe-6b7b-4cd2-96a3-1ac914ff2886');\n",
              "var x = new MutationObserver(function (mutations, observer) {{\n",
              "        var display = window.getComputedStyle(gd).display;\n",
              "        if (!display || display === 'none') {{\n",
              "            console.log([gd, 'removed!']);\n",
              "            Plotly.purge(gd);\n",
              "            observer.disconnect();\n",
              "        }}\n",
              "}});\n",
              "\n",
              "// Listen for the removal of the full notebook cells\n",
              "var notebookContainer = gd.closest('#notebook-container');\n",
              "if (notebookContainer) {{\n",
              "    x.observe(notebookContainer, {childList: true});\n",
              "}}\n",
              "\n",
              "// Listen for the clearing of the current output cell\n",
              "var outputEl = gd.closest('.output');\n",
              "if (outputEl) {{\n",
              "    x.observe(outputEl, {childList: true});\n",
              "}}\n",
              "\n",
              "                        })\n",
              "                };\n",
              "                \n",
              "            </script>\n",
              "        </div>\n",
              "</body>\n",
              "</html>"
            ]
          },
          "metadata": {}
        },
        {
          "output_type": "error",
          "ename": "ValueError",
          "evalue": "ignored",
          "traceback": [
            "\u001b[0;31m---------------------------------------------------------------------------\u001b[0m",
            "\u001b[0;31mValueError\u001b[0m                                Traceback (most recent call last)",
            "\u001b[0;32m<ipython-input-33-f5e84122ef56>\u001b[0m in \u001b[0;36m<module>\u001b[0;34m()\u001b[0m\n\u001b[1;32m     84\u001b[0m                                    line_width=1),\n\u001b[1;32m     85\u001b[0m                        \u001b[0mtextfont\u001b[0m\u001b[0;34m=\u001b[0m\u001b[0;34m{\u001b[0m\u001b[0;34m'color'\u001b[0m\u001b[0;34m:\u001b[0m \u001b[0;34m'#FFFFFF'\u001b[0m\u001b[0;34m,\u001b[0m \u001b[0;34m'size'\u001b[0m\u001b[0;34m:\u001b[0m \u001b[0;36m12\u001b[0m\u001b[0;34m}\u001b[0m\u001b[0;34m,\u001b[0m\u001b[0;34m\u001b[0m\u001b[0;34m\u001b[0m\u001b[0m\n\u001b[0;32m---> 86\u001b[0;31m                        textfont_size=12))\n\u001b[0m\u001b[1;32m     87\u001b[0m \u001b[0;34m\u001b[0m\u001b[0m\n\u001b[1;32m     88\u001b[0m \u001b[0;31m# Setting the parameters of the chart when displaying\u001b[0m\u001b[0;34m\u001b[0m\u001b[0;34m\u001b[0m\u001b[0;34m\u001b[0m\u001b[0m\n",
            "\u001b[0;32m/usr/local/lib/python3.7/dist-packages/plotly/graph_objs/__init__.py\u001b[0m in \u001b[0;36m__init__\u001b[0;34m(self, arg, automargin, customdata, customdatasrc, direction, dlabel, domain, hole, hoverinfo, hoverinfosrc, hoverlabel, hovertemplate, hovertemplatesrc, hovertext, hovertextsrc, ids, idssrc, insidetextfont, label0, labels, labelssrc, legendgroup, marker, meta, metasrc, name, opacity, outsidetextfont, pull, pullsrc, rotation, scalegroup, showlegend, sort, stream, text, textfont, textinfo, textposition, textpositionsrc, textsrc, texttemplate, texttemplatesrc, title, titlefont, titleposition, uid, uirevision, values, valuessrc, visible, **kwargs)\u001b[0m\n\u001b[1;32m  42306\u001b[0m         \u001b[0;31m# Process unknown kwargs\u001b[0m\u001b[0;34m\u001b[0m\u001b[0;34m\u001b[0m\u001b[0;34m\u001b[0m\u001b[0m\n\u001b[1;32m  42307\u001b[0m         \u001b[0;31m# ----------------------\u001b[0m\u001b[0;34m\u001b[0m\u001b[0;34m\u001b[0m\u001b[0;34m\u001b[0m\u001b[0m\n\u001b[0;32m> 42308\u001b[0;31m         \u001b[0mself\u001b[0m\u001b[0;34m.\u001b[0m\u001b[0m_process_kwargs\u001b[0m\u001b[0;34m(\u001b[0m\u001b[0;34m**\u001b[0m\u001b[0mdict\u001b[0m\u001b[0;34m(\u001b[0m\u001b[0marg\u001b[0m\u001b[0;34m,\u001b[0m \u001b[0;34m**\u001b[0m\u001b[0mkwargs\u001b[0m\u001b[0;34m)\u001b[0m\u001b[0;34m)\u001b[0m\u001b[0;34m\u001b[0m\u001b[0;34m\u001b[0m\u001b[0m\n\u001b[0m\u001b[1;32m  42309\u001b[0m \u001b[0;34m\u001b[0m\u001b[0m\n\u001b[1;32m  42310\u001b[0m         \u001b[0;31m# Reset skip_invalid\u001b[0m\u001b[0;34m\u001b[0m\u001b[0;34m\u001b[0m\u001b[0;34m\u001b[0m\u001b[0m\n",
            "\u001b[0;32m/usr/local/lib/python3.7/dist-packages/plotly/basedatatypes.py\u001b[0m in \u001b[0;36m_process_kwargs\u001b[0;34m(self, **kwargs)\u001b[0m\n\u001b[1;32m   3033\u001b[0m \u001b[0;34m\u001b[0m\u001b[0m\n\u001b[1;32m   3034\u001b[0m         \u001b[0;32mif\u001b[0m \u001b[0minvalid_kwargs\u001b[0m \u001b[0;32mand\u001b[0m \u001b[0;32mnot\u001b[0m \u001b[0mself\u001b[0m\u001b[0;34m.\u001b[0m\u001b[0m_skip_invalid\u001b[0m\u001b[0;34m:\u001b[0m\u001b[0;34m\u001b[0m\u001b[0;34m\u001b[0m\u001b[0m\n\u001b[0;32m-> 3035\u001b[0;31m             \u001b[0mself\u001b[0m\u001b[0;34m.\u001b[0m\u001b[0m_raise_on_invalid_property_error\u001b[0m\u001b[0;34m(\u001b[0m\u001b[0;34m*\u001b[0m\u001b[0minvalid_kwargs\u001b[0m\u001b[0;34m.\u001b[0m\u001b[0mkeys\u001b[0m\u001b[0;34m(\u001b[0m\u001b[0;34m)\u001b[0m\u001b[0;34m)\u001b[0m\u001b[0;34m\u001b[0m\u001b[0;34m\u001b[0m\u001b[0m\n\u001b[0m\u001b[1;32m   3036\u001b[0m \u001b[0;34m\u001b[0m\u001b[0m\n\u001b[1;32m   3037\u001b[0m     \u001b[0;34m@\u001b[0m\u001b[0mproperty\u001b[0m\u001b[0;34m\u001b[0m\u001b[0;34m\u001b[0m\u001b[0m\n",
            "\u001b[0;32m/usr/local/lib/python3.7/dist-packages/plotly/basedatatypes.py\u001b[0m in \u001b[0;36m_raise_on_invalid_property_error\u001b[0;34m(self, *args)\u001b[0m\n\u001b[1;32m   3664\u001b[0m                     \u001b[0mfull_obj_name\u001b[0m\u001b[0;34m=\u001b[0m\u001b[0mfull_obj_name\u001b[0m\u001b[0;34m,\u001b[0m\u001b[0;34m\u001b[0m\u001b[0;34m\u001b[0m\u001b[0m\n\u001b[1;32m   3665\u001b[0m                     \u001b[0minvalid_str\u001b[0m\u001b[0;34m=\u001b[0m\u001b[0minvalid_str\u001b[0m\u001b[0;34m,\u001b[0m\u001b[0;34m\u001b[0m\u001b[0;34m\u001b[0m\u001b[0m\n\u001b[0;32m-> 3666\u001b[0;31m                     \u001b[0mprop_descriptions\u001b[0m\u001b[0;34m=\u001b[0m\u001b[0mself\u001b[0m\u001b[0;34m.\u001b[0m\u001b[0m_prop_descriptions\u001b[0m\u001b[0;34m,\u001b[0m\u001b[0;34m\u001b[0m\u001b[0;34m\u001b[0m\u001b[0m\n\u001b[0m\u001b[1;32m   3667\u001b[0m                 )\n\u001b[1;32m   3668\u001b[0m             )\n",
            "\u001b[0;31mValueError\u001b[0m: Invalid property specified for object of type plotly.graph_objs.Pie: 'insidetextorientation'\n\n    Valid properties:\n        automargin\n            Determines whether outside text labels can push the\n            margins.\n        customdata\n            Assigns extra data each datum. This may be useful when\n            listening to hover, click and selection events. Note\n            that, \"scatter\" traces also appends customdata items in\n            the markers DOM elements\n        customdatasrc\n            Sets the source reference on plot.ly for  customdata .\n        direction\n            Specifies the direction at which succeeding sectors\n            follow one another.\n        dlabel\n            Sets the label step. See `label0` for more info.\n        domain\n            plotly.graph_objects.pie.Domain instance or dict with\n            compatible properties\n        hole\n            Sets the fraction of the radius to cut out of the pie.\n            Use this to make a donut chart.\n        hoverinfo\n            Determines which trace information appear on hover. If\n            `none` or `skip` are set, no information is displayed\n            upon hovering. But, if `none` is set, click and hover\n            events are still fired.\n        hoverinfosrc\n            Sets the source reference on plot.ly for  hoverinfo .\n        hoverlabel\n            plotly.graph_objects.pie.Hoverlabel instance or dict\n            with compatible properties\n        hovertemplate\n            Template string used for rendering the information that\n            appear on hover box. Note that this will override\n            `hoverinfo`. Variables are inserted using %{variable},\n            for example \"y: %{y}\". Numbers are formatted using\n            d3-format's syntax %{variable:d3-format}, for example\n            \"Price: %{y:$.2f}\". https://github.com/d3/d3-3.x-api-\n            reference/blob/master/Formatting.md#d3_format for\n            details on the formatting syntax. Dates are formatted\n            using d3-time-format's syntax %{variable|d3-time-\n            format}, for example \"Day: %{2019-01-01|%A}\".\n            https://github.com/d3/d3-3.x-api-\n            reference/blob/master/Time-Formatting.md#format for\n            details on the date formatting syntax. The variables\n            available in `hovertemplate` are the ones emitted as\n            event data described at this link\n            https://plot.ly/javascript/plotlyjs-events/#event-data.\n            Additionally, every attributes that can be specified\n            per-point (the ones that are `arrayOk: true`) are\n            available. variables `label`, `color`, `value`,\n            `percent` and `text`. Anything contained in tag\n            `<extra>` is displayed in the secondary box, for\n            example \"<extra>{fullData.name}</extra>\". To hide the\n            secondary box completely, use an empty tag\n            `<extra></extra>`.\n        hovertemplatesrc\n            Sets the source reference on plot.ly for  hovertemplate\n            .\n        hovertext\n            Sets hover text elements associated with each sector.\n            If a single string, the same string appears for all\n            data points. If an array of string, the items are\n            mapped in order of this trace's sectors. To be seen,\n            trace `hoverinfo` must contain a \"text\" flag.\n        hovertextsrc\n            Sets the source reference on plot.ly for  hovertext .\n        ids\n            Assigns id labels to each datum. These ids for object\n            constancy of data points during animation. Should be an\n            array of strings, not numbers or any other type.\n        idssrc\n            Sets the source reference on plot.ly for  ids .\n        insidetextfont\n            Sets the font used for `textinfo` lying inside the\n            sector.\n        label0\n            Alternate to `labels`. Builds a numeric set of labels.\n            Use with `dlabel` where `label0` is the starting label\n            and `dlabel` the step.\n        labels\n            Sets the sector labels. If `labels` entries are\n            duplicated, we sum associated `values` or simply count\n            occurrences if `values` is not provided. For other\n            array attributes (including color) we use the first\n            non-empty entry among all occurrences of the label.\n        labelssrc\n            Sets the source reference on plot.ly for  labels .\n        legendgroup\n            Sets the legend group for this trace. Traces part of\n            the same legend group hide/show at the same time when\n            toggling legend items.\n        marker\n            plotly.graph_objects.pie.Marker instance or dict with\n            compatible properties\n        meta\n            Assigns extra meta information associated with this\n            trace that can be used in various text attributes.\n            Attributes such as trace `name`, graph, axis and\n            colorbar `title.text`, annotation `text`\n            `rangeselector`, `updatemenues` and `sliders` `label`\n            text all support `meta`. To access the trace `meta`\n            values in an attribute in the same trace, simply use\n            `%{meta[i]}` where `i` is the index or key of the\n            `meta` item in question. To access trace `meta` in\n            layout attributes, use `%{data[n[.meta[i]}` where `i`\n            is the index or key of the `meta` and `n` is the trace\n            index.\n        metasrc\n            Sets the source reference on plot.ly for  meta .\n        name\n            Sets the trace name. The trace name appear as the\n            legend item and on hover.\n        opacity\n            Sets the opacity of the trace.\n        outsidetextfont\n            Sets the font used for `textinfo` lying outside the\n            sector.\n        pull\n            Sets the fraction of larger radius to pull the sectors\n            out from the center. This can be a constant to pull all\n            slices apart from each other equally or an array to\n            highlight one or more slices.\n        pullsrc\n            Sets the source reference on plot.ly for  pull .\n        rotation\n            Instead of the first slice starting at 12 o'clock,\n            rotate to some other angle.\n        scalegroup\n            If there are multiple pie charts that should be sized\n            according to their totals, link them by providing a\n            non-empty group id here shared by every trace in the\n            same group.\n        showlegend\n            Determines whether or not an item corresponding to this\n            trace is shown in the legend.\n        sort\n            Determines whether or not the sectors are reordered\n            from largest to smallest.\n        stream\n            plotly.graph_objects.pie.Stream instance or dict with\n            compatible properties\n        text\n            Sets text elements associated with each sector. If\n            trace `textinfo` contains a \"text\" flag, these elements\n            will be seen on the chart. If trace `hoverinfo`\n            contains a \"text\" flag and \"hovertext\" is not set,\n            these elements will be seen in the hover labels.\n        textfont\n            Sets the font used for `textinfo`.\n        textinfo\n            Determines which trace information appear on the graph.\n        textposition\n            Specifies the location of the `textinfo`.\n        textpositionsrc\n            Sets the source reference on plot.ly for  textposition\n            .\n        textsrc\n            Sets the source reference on plot.ly for  text .\n        texttemplate\n            Template string used for rendering the information text\n            that appear on points. Note that this will override\n            `textinfo`. Variables are inserted using %{variable},\n            for example \"y: %{y}\". Numbers are formatted using\n            d3-format's syntax %{variable:d3-format}, for example\n            \"Price: %{y:$.2f}\". https://github.com/d3/d3-3.x-api-\n            reference/blob/master/Formatting.md#d3_format for\n            details on the formatting syntax. Dates are formatted\n            using d3-time-format's syntax %{variable|d3-time-\n            format}, for example \"Day: %{2019-01-01|%A}\".\n            https://github.com/d3/d3-3.x-api-\n            reference/blob/master/Time-Formatting.md#format for\n            details on the date formatting syntax. Every attributes\n            that can be specified per-point (the ones that are\n            `arrayOk: true`) are available. variables `label`,\n            `color`, `value`, `percent` and `text`.\n        texttemplatesrc\n            Sets the source reference on plot.ly for  texttemplate\n            .\n        title\n            plotly.graph_objects.pie.Title instance or dict with\n            compatible properties\n        titlefont\n            Deprecated: Please use pie.title.font instead. Sets the\n            font used for `title`. Note that the title's font used\n            to be set by the now deprecated `titlefont` attribute.\n        titleposition\n            Deprecated: Please use pie.title.position instead.\n            Specifies the location of the `title`. Note that the\n            title's position used to be set by the now deprecated\n            `titleposition` attribute.\n        uid\n            Assign an id to this trace, Use this to provide object\n            constancy between traces during animations and\n            transitions.\n        uirevision\n            Controls persistence of some user-driven changes to the\n            trace: `constraintrange` in `parcoords` traces, as well\n            as some `editable: true` modifications such as `name`\n            and `colorbar.title`. Defaults to `layout.uirevision`.\n            Note that other user-driven trace attribute changes are\n            controlled by `layout` attributes: `trace.visible` is\n            controlled by `layout.legend.uirevision`,\n            `selectedpoints` is controlled by\n            `layout.selectionrevision`, and `colorbar.(x|y)`\n            (accessible with `config: {editable: true}`) is\n            controlled by `layout.editrevision`. Trace changes are\n            tracked by `uid`, which only falls back on trace index\n            if no `uid` is provided. So if your app can add/remove\n            traces before the end of the `data` array, such that\n            the same trace has a different index, you can still\n            preserve user-driven changes if you give each trace a\n            `uid` that stays with it as it moves.\n        values\n            Sets the values of the sectors. If omitted, we count\n            occurrences of each label.\n        valuessrc\n            Sets the source reference on plot.ly for  values .\n        visible\n            Determines whether or not this trace is visible. If\n            \"legendonly\", the trace is not drawn, but can appear as\n            a legend item (provided that the legend itself is\n            visible).\n        "
          ]
        }
      ]
    },
    {
      "cell_type": "code",
      "source": [
        "#Display measures of the central trend\n",
        "bestsellers.describe().T"
      ],
      "metadata": {
        "id": "CoI6ET0EKRnP"
      },
      "execution_count": null,
      "outputs": []
    },
    {
      "cell_type": "code",
      "source": [
        "# Let's set the visualization parameters\n",
        "fig_4 = make_subplots(rows=1, cols=1, specs=[[{'type': 'xy'}]])\n",
        "\n",
        "# Setting Box parameters\n",
        "fig_4.add_trace(go.Box(x=bestsellers['User Rating'], \n",
        "                       name='User Rating'))\n",
        "\n",
        "# Setting the parameters of the Box when displaying\n",
        "fig_4.update_traces(marker_color='Salmon')\n",
        "\n",
        "# Setting the parameters of the Box when displaying\n",
        "fig_4.update_layout(showlegend=False, \n",
        "                    template='simple_white', \n",
        "                    font=dict(family='Arial', \n",
        "                              size=12, \n",
        "                              color='black'))\n",
        "# Displaying the Box\n",
        "fig_4.show()\n",
        "\n",
        "# Let's set the visualization parameters\n",
        "fig_5 = make_subplots(rows=1, cols=1, specs=[[{'type': 'xy'}]])\n",
        "\n",
        "# Setting Box parameters\n",
        "fig_5.add_trace(go.Box(x=bestsellers['Reviews'], \n",
        "                       name='Reviews'))\n",
        "\n",
        "# Setting the parameters of the Box when displaying\n",
        "fig_5.update_traces(marker_color='Salmon')\n",
        "\n",
        "# Setting the parameters of the Box when displaying\n",
        "fig_5.update_layout(showlegend=False, \n",
        "                    template='simple_white', \n",
        "                    font=dict(family='Arial', \n",
        "                              size=12, \n",
        "                              color='black'))\n",
        "# Displaying the Box\n",
        "fig_5.show()\n",
        "\n",
        "# Let's set the visualization parameters\n",
        "fig_6 = make_subplots(rows=1, cols=1, specs=[[{'type': 'xy'}]])\n",
        "\n",
        "# Setting Box parameters\n",
        "fig_6.add_trace(go.Box(x=bestsellers['Price'], \n",
        "                       name='Price'))\n",
        "\n",
        "# Setting the parameters of the Box when displaying\n",
        "fig_6.update_traces(marker_color='Salmon')\n",
        "\n",
        "# Setting the parameters of the Box when displaying\n",
        "fig_6.update_layout(showlegend=False, \n",
        "                    template='simple_white', \n",
        "                    font=dict(family='Arial', \n",
        "                              size=12, \n",
        "                              color='black'))\n",
        "# Displaying the Box\n",
        "fig_6.show()"
      ],
      "metadata": {
        "id": "rRfODBecKRqO"
      },
      "execution_count": null,
      "outputs": []
    },
    {
      "cell_type": "markdown",
      "source": [
        "INSIGHT: By analyzing the numeric data, it is established:\n",
        "\n",
        "User Rating:\n",
        "\n",
        "Data is not distributed normally. Asymmetry is observed.\n",
        "Average and median book ratings are 4.6.\n",
        "There are outliers in the data. There are a small number of books in the data below the 4.1 rating.\n",
        "Reviews:\n",
        "\n",
        "Data is not distributed normally. Asymmetry is observed.\n",
        "The data has a wide range.\n",
        "There are outliers in the data. There are a small number of books receiving reviews well above the 75 percentile.\n",
        "Price:\n",
        "\n",
        "Data is not distributed normally. Asymmetry is observed.\n",
        "There are books that cost much higher than the average, as well as books with a cost of 0, which is strange.There are books that cost much higher than the average, as well as books with a cost of 0, which is strange. Either the book is given for free or this error.\n",
        "Let's look at the correlation in the data."
      ],
      "metadata": {
        "id": "lcdOD6RPKYlf"
      }
    },
    {
      "cell_type": "code",
      "source": [
        "# Building a correlation matrix and building a correlation matrix and visualizing relationships\n",
        "bestsellers.corr()"
      ],
      "metadata": {
        "id": "vWqWyyFtKRty"
      },
      "execution_count": null,
      "outputs": []
    },
    {
      "cell_type": "code",
      "source": [
        "# Let's set the visualization parameters\n",
        "fig_7 = make_subplots(rows=1, cols=1, specs=[[{'type': 'xy'}]])\n",
        "\n",
        "# Setting Scatter parameters\n",
        "fig_7.add_trace(go.Scattergl(x=bestsellers['User Rating'],\n",
        "                             y=bestsellers['Reviews'],\n",
        "                             mode='markers',\n",
        "                             marker_color='salmon'))\n",
        "\n",
        "# Setting the parameters of the Scatter when displaying\n",
        "fig_7.update_layout(template='simple_white',\n",
        "                    showlegend=False, \n",
        "                    xaxis = {'title':'User Rating'}, \n",
        "                    yaxis = {'title':'Reviews'},\n",
        "                    font=dict(family='Arial', \n",
        "                              size=12, \n",
        "                              color='black'))\n",
        "\n",
        "# Displaying the Scatter\n",
        "fig_7.show()\n",
        "\n",
        "# Let's set the visualization parameters\n",
        "fig_8 = make_subplots(rows=1, cols=1, specs=[[{'type': 'xy'}]])\n",
        "\n",
        "# Setting Scatter parameters\n",
        "fig_8.add_trace(go.Scattergl(x=bestsellers['User Rating'],\n",
        "                             y=bestsellers['Price'],\n",
        "                             mode='markers',\n",
        "                             marker_color='salmon'))\n",
        "\n",
        "# Setting the parameters of the Scatter when displaying\n",
        "fig_8.update_layout(template='simple_white',\n",
        "                    showlegend=False,\n",
        "                    xaxis = {'title':'User Rating'}, \n",
        "                    yaxis = {'title':'Price'},\n",
        "                    font=dict(family='Arial', \n",
        "                              size=12, \n",
        "                              color='black'))\n",
        "\n",
        "# Displaying the Scatter\n",
        "fig_8.show()\n",
        "\n",
        "# Let's set the visualization parameters\n",
        "fig_9 = make_subplots(rows=1, cols=1, specs=[[{'type': 'xy'}]])\n",
        "\n",
        "# Setting Scatter parameters\n",
        "fig_9.add_trace(go.Scattergl(x=bestsellers['Price'],\n",
        "                             y=bestsellers['Reviews'],\n",
        "                             mode='markers',\n",
        "                             marker_color='salmon'))\n",
        "\n",
        "# Setting the parameters of the Scatter when displaying\n",
        "fig_9.update_layout(template='simple_white',\n",
        "                    showlegend=False, \n",
        "                    xaxis = {'title':'Price'}, \n",
        "                    yaxis = {'title':'Reviews'},\n",
        "                    font=dict(family='Arial', size=12, color='black'))\n",
        "\n",
        "# Displaying the Scatter\n",
        "fig_9.show()"
      ],
      "metadata": {
        "id": "KkPaw_pgKmJG"
      },
      "execution_count": null,
      "outputs": []
    },
    {
      "cell_type": "markdown",
      "source": [
        "INSIGHT: Based on the constructed correlation matrix as well as the constructed visualizations, it can be seen that the data does not contain any positive or negative linear relationship between the rating, reviews and the price of books."
      ],
      "metadata": {
        "id": "MAxg0lv4KpEj"
      }
    },
    {
      "cell_type": "markdown",
      "source": [
        "Now I want to test the following hypothesis: \"Do genres differ in terms of rating?\"\n",
        "\n",
        "We will test the hypothesis according to the following algorithm:\n",
        "\n",
        "Null and alternative hypotheses are formulated.\n",
        "The distribution was checked for normality using \"Shapiro Wilk test of normality\".\n",
        "Two samples were formed. Books related to the Non Fiction genre and books related to the Fiction genre.\n",
        "Testing was carried out in order to identify statistical differences between the study groups.\n",
        "Let us formulate the null and alternative hypotheses.\n",
        "\n",
        "H0 - There are no differences between genre rating\n",
        "\n",
        "H1 - There are differences between genre rating"
      ],
      "metadata": {
        "id": "s5IdRU6wKrg-"
      }
    },
    {
      "cell_type": "code",
      "source": [
        "#Checking the distribution for normality. Using \"Shapiro Wilk test of normality\"\n",
        "#Set the alpha level\n",
        "alpha=0.05\n",
        "\n",
        "#We pass groups to the criterion for testing\n",
        "stat,pval=shapiro(bestsellers['User Rating'])\n",
        "\n",
        "print('Statistic:', f'{stat:.3f}')\n",
        "print('P-Value:',f'{pval:.20f}')\n",
        "\n",
        "#Checking the condition for accepting or rejecting H0\n",
        "if pval>alpha:\n",
        "    print('Accept H0 - Data is distributed normally.')\n",
        "if pval<alpha:\n",
        "    print('Reject H0 - Data is not distributed normally.')"
      ],
      "metadata": {
        "id": "hk4W5vwwKvVt"
      },
      "execution_count": null,
      "outputs": []
    },
    {
      "cell_type": "code",
      "source": [
        "#Create group\n",
        "non_fiction=bestsellers[bestsellers['Genre']=='Non Fiction']['User Rating']\n",
        "fiction=bestsellers[bestsellers['Genre']=='Fiction']['User Rating']"
      ],
      "metadata": {
        "id": "Wel1jqNdKzfe"
      },
      "execution_count": null,
      "outputs": []
    },
    {
      "cell_type": "code",
      "source": [
        "# Set the alpha level\n",
        "alpha=0.05\n",
        "\n",
        "# We pass groups to the criterion for testing\n",
        "stat, pval = mannwhitneyu(non_fiction, fiction)\n",
        "\n",
        "print('Statistic:', f'{stat:.3f}')\n",
        "print('P-Value:', f'{pval:.20f}')\n",
        " \n",
        "# Checking the condition for accepting or rejecting H0\n",
        "if pval > alpha:\n",
        "    print('Accept H0 - There is no significant difference between the groups.')\n",
        "if pval < alpha:\n",
        "    print('Reject H0 - There are significant differences between the groups.')"
      ],
      "metadata": {
        "id": "Ean-YJ0OK3yE"
      },
      "execution_count": null,
      "outputs": []
    },
    {
      "cell_type": "code",
      "source": [
        "print(f'Non_fiction median: {non_fiction.median()}, Fiction median: {fiction.median()}')"
      ],
      "metadata": {
        "id": "_1vhWaPMK3_b"
      },
      "execution_count": null,
      "outputs": []
    },
    {
      "cell_type": "code",
      "source": [
        "# Create distplot with curve_type set to 'normal'\n",
        "fig_10 = ff.create_distplot([non_fiction, fiction], \n",
        "                         ['Non_fiction', 'Fiction'], \n",
        "                         colors=['salmon', 'gray',],\n",
        "                         bin_size=.1, \n",
        "                         show_rug=False)\n",
        "\n",
        "# Add title\n",
        "fig_10.update_layout(title_text='Сomparison of the distribution density in the group Non_fiction and the group', \n",
        "                     template='simple_white',\n",
        "                     font=dict(family='Arial', size=12, color='black'))\n",
        "fig_10.show()"
      ],
      "metadata": {
        "id": "iqhG3lmAK4C4"
      },
      "execution_count": null,
      "outputs": []
    },
    {
      "cell_type": "markdown",
      "source": [
        "INSIGHT: As a result of the testing, statistically significant differences were obtained between the compared groups. Based on the results obtained, it can be argued that users evaluate books differently depending on the genre, and based on the median values, readers give preference to works of fiction."
      ],
      "metadata": {
        "id": "iXgJK6ayLCUu"
      }
    },
    {
      "cell_type": "markdown",
      "source": [
        "5.Final Conclusions\n",
        "In the course of the analysis, it was established which authors receive the highest ratings from readers, which authors have written the most bestsellers, which books receive the most reviews from readers. In addition, it was found that non-fiction literature is becoming more often a bestseller, but users also like fiction more, which is confirmed by the statistically significant results obtained during the testing."
      ],
      "metadata": {
        "id": "egb-zk09LHTt"
      }
    }
  ]
}